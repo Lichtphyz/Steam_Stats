{
 "cells": [
  {
   "cell_type": "markdown",
   "metadata": {},
   "source": [
    "The first part of this notebook is loading a webpage (loads whole list, so it could be any).  Then moves on to pulling a lot of features from the page.  \n",
    "### This is the 'test run' for pulling all the features, in notebook 4."
   ]
  },
  {
   "cell_type": "markdown",
   "metadata": {},
   "source": [
    "#### First, I need to load the list of web pages to be scraped:"
   ]
  },
  {
   "cell_type": "code",
   "execution_count": 1,
   "metadata": {
    "collapsed": true
   },
   "outputs": [],
   "source": [
    "import numpy as np\n",
    "import pandas as pd\n",
    "import requests\n",
    "from time import sleep\n",
    "from bs4 import BeautifulSoup\n",
    "import re\n",
    "from dateutil.parser import *"
   ]
  },
  {
   "cell_type": "code",
   "execution_count": 2,
   "metadata": {},
   "outputs": [
    {
     "data": {
      "text/plain": [
       "array([['https://steamdb.info/app/493790/'],\n",
       "       ['https://steamdb.info/app/303720/'],\n",
       "       ['https://steamdb.info/app/614910/'],\n",
       "       ..., \n",
       "       ['https://steamdb.info/app/665900/'],\n",
       "       ['https://steamdb.info/app/490390/'],\n",
       "       ['https://steamdb.info/app/460250/']], dtype=object)"
      ]
     },
     "execution_count": 2,
     "metadata": {},
     "output_type": "execute_result"
    }
   ],
   "source": [
    "filename = 'SinglePlayerGames.csv'\n",
    "\n",
    "df=pd.read_csv(filename, sep=',',header='infer')\n",
    "df.values"
   ]
  },
  {
   "cell_type": "code",
   "execution_count": 3,
   "metadata": {},
   "outputs": [
    {
     "data": {
      "text/html": [
       "<div>\n",
       "<style>\n",
       "    .dataframe thead tr:only-child th {\n",
       "        text-align: right;\n",
       "    }\n",
       "\n",
       "    .dataframe thead th {\n",
       "        text-align: left;\n",
       "    }\n",
       "\n",
       "    .dataframe tbody tr th {\n",
       "        vertical-align: top;\n",
       "    }\n",
       "</style>\n",
       "<table border=\"1\" class=\"dataframe\">\n",
       "  <thead>\n",
       "    <tr style=\"text-align: right;\">\n",
       "      <th></th>\n",
       "      <th># Links</th>\n",
       "    </tr>\n",
       "  </thead>\n",
       "  <tbody>\n",
       "    <tr>\n",
       "      <th>0</th>\n",
       "      <td>https://steamdb.info/app/493790/</td>\n",
       "    </tr>\n",
       "    <tr>\n",
       "      <th>1</th>\n",
       "      <td>https://steamdb.info/app/303720/</td>\n",
       "    </tr>\n",
       "    <tr>\n",
       "      <th>2</th>\n",
       "      <td>https://steamdb.info/app/614910/</td>\n",
       "    </tr>\n",
       "    <tr>\n",
       "      <th>3</th>\n",
       "      <td>https://steamdb.info/app/392190/</td>\n",
       "    </tr>\n",
       "    <tr>\n",
       "      <th>4</th>\n",
       "      <td>https://steamdb.info/app/557330/</td>\n",
       "    </tr>\n",
       "  </tbody>\n",
       "</table>\n",
       "</div>"
      ],
      "text/plain": [
       "                            # Links\n",
       "0  https://steamdb.info/app/493790/\n",
       "1  https://steamdb.info/app/303720/\n",
       "2  https://steamdb.info/app/614910/\n",
       "3  https://steamdb.info/app/392190/\n",
       "4  https://steamdb.info/app/557330/"
      ]
     },
     "execution_count": 3,
     "metadata": {},
     "output_type": "execute_result"
    }
   ],
   "source": [
    "df.head()"
   ]
  },
  {
   "cell_type": "code",
   "execution_count": 4,
   "metadata": {
    "collapsed": true
   },
   "outputs": [],
   "source": [
    "Links = []\n",
    "for line in df.values:\n",
    "    Links.append(line[0])"
   ]
  },
  {
   "cell_type": "code",
   "execution_count": 5,
   "metadata": {},
   "outputs": [
    {
     "data": {
      "text/plain": [
       "5000"
      ]
     },
     "execution_count": 5,
     "metadata": {},
     "output_type": "execute_result"
    }
   ],
   "source": [
    "len(Links)"
   ]
  },
  {
   "cell_type": "code",
   "execution_count": 6,
   "metadata": {},
   "outputs": [
    {
     "data": {
      "text/plain": [
       "'https://steamdb.info/app/493790/'"
      ]
     },
     "execution_count": 6,
     "metadata": {},
     "output_type": "execute_result"
    }
   ],
   "source": [
    "Links[0]"
   ]
  },
  {
   "cell_type": "markdown",
   "metadata": {},
   "source": [
    "# Now to pull data from the web!"
   ]
  },
  {
   "cell_type": "markdown",
   "metadata": {},
   "source": [
    "First, practice on a single page"
   ]
  },
  {
   "cell_type": "code",
   "execution_count": 372,
   "metadata": {
    "collapsed": true
   },
   "outputs": [],
   "source": [
    "#url = Links[0]\n",
    "url = \"https://steamdb.info/app/517480/\"\n",
    "response = requests.get(url)"
   ]
  },
  {
   "cell_type": "code",
   "execution_count": 373,
   "metadata": {
    "collapsed": true
   },
   "outputs": [],
   "source": [
    "html = response.text"
   ]
  },
  {
   "cell_type": "code",
   "execution_count": null,
   "metadata": {},
   "outputs": [],
   "source": []
  },
  {
   "cell_type": "code",
   "execution_count": 374,
   "metadata": {},
   "outputs": [
    {
     "name": "stdout",
     "output_type": "stream",
     "text": [
      "<!DOCTYPE HTML>\n",
      "<html lang=\"en\">\n",
      "<head>\n",
      "<meta charset=\"utf-8\">\n",
      "<meta name=\"referrer\" content=\"unsafe-url\">\n",
      "<meta name=\"viewport\" content=\"width=device-width, initial-scale=1.0, maximum-scale=1.0\">\n",
      "<title>VHSoverdose · AppID: 517480 · Steam Database</title>\n",
      "<link crossorigin=\"anonymous\" rel=\"stylesheet\" href=\"https://fonts.googleapis.com/css?family=Lato:300,400,400italic,700\">\n",
      "<link rel=\"stylesheet\" href=\"/static/css/headcrab.52e27913.css\">\n",
      "<link rel=\"stylesheet\" href=\"/static/css/app.0f98310d.css\">\n",
      "<link rel=\"publisher\" href=\"https://plus.google.com/107822289875397035811\">\n",
      "<link rel=\"alternate\" type=\"application/rss+xml\" title=\"SteamDB Blog\" href=\"https://steamdb.info/api/BlogRSS/\">\n",
      "<meta property=\"twitter:card\" content=\"summary_large_image\">\n",
      "<meta property=\"twitter:site\" content=\"@SteamDB\">\n",
      "<meta property=\"og:type\" content=\"website\">\n",
      "<meta property=\"og:site_name\" content=\"Steam Database\">\n",
      "<meta property=\"og:title\" content=\"VHSoverdose · AppID: 517480\">\n",
      "<meta property=\"description\" content=\"VHSoverdose is an unrelenting assault of outlandish action, served up with thick juicy slice of anatomical annihilation! Set inside of the confides of a simple 80&#039;s Arcade Machine... Or is it?\">\n",
      "<meta property=\"og:description\" content=\"VHSoverdose is an unrelenting assault of outlandish action, served up with thick juicy slice of anatomical annihilation! Set inside of the confides of a simple 80&#039;s Arcade Machine... Or is it?\">\n",
      "<meta property=\"twitter:creator\" content=\"@steam_games\">\n",
      "<meta property=\"og:image\" content=\"https://steamdb.info/app/517480.jpg?_=1439546013\">\n",
      "<meta name=\"theme-color\" content=\"#1B2838\">\n",
      "<meta name=\"application-name\" content=\"SteamDB\">\n",
      "<meta name=\"apple-mobile-web-app-title\" content=\"SteamDB\">\n",
      "<link rel=\"shortcut icon\" href=\"/favicon.ico\">\n",
      "<link rel=\"apple-touch-icon\" sizes=\"152x152\" href=\"/apple-touch-icon.png\">\n",
      "<link rel=\"icon\" type=\"image/png\" href=\"/static/logos/favicon-196x196.png\" sizes=\"196x196\">\n",
      "<link rel=\"icon\" type=\"image/png\" href=\"/static/logos/favicon-16x16.png\" sizes=\"16x16\">\n",
      "<link rel=\"icon\" type=\"image/png\" href=\"/static/logos/favicon-32x32.png\" sizes=\"32x32\">\n",
      "<link rel=\"search\" type=\"application/opensearchdescription+xml\" href=\"/opensearch.xml\" title=\"SteamDB\">\n",
      "<script src=\"/static/js/vendor/alex.60913372.js\" data-apikey=\"222bed7cb7c699e0248b9f4f3e7cb123\"></script>\n",
      "</head>\n",
      "<body class=\"page-apps\" itemscope itemtype=\"http://schema.org/WebSite\">\n",
      "<div class=\"footer-wrap\">\n",
      "<div class=\"header\">\n",
      "<div class=\"container\">\n",
      "<ul class=\"header-navbar clearfix\">\n",
      "<li class=\"header-brand\"><a href=\"/\" title=\"Steam Database\"><img src=\"/static/logos/header.svg\" width=\"30\" height=\"30\" alt=\"SteamDB\"></a></li>\n",
      "<li class=\"dropdown active\">\n",
      "<a href=\"/apps/\">Apps <b class=\"caret\"></b></a>\n",
      "<ul class=\"dropdown-menu\">\n",
      "<li class=\"active\"><a href=\"/apps/\"><span class=\"octicon octicon-list-ordered\"></span> Apps</a></li>\n",
      "<li><a href=\"/history/\"><span class=\"octicon octicon-history\"></span> History</a></li>\n",
      "<li><a href=\"/instantsearch/\"><span class=\"octicon octicon-dashboard\"></span> Instant Search</a></li>\n",
      "<li><a href=\"/search/\"><span class=\"octicon octicon-search\"></span> Search</a></li>\n",
      "<li class=\"divider\"></li>\n",
      "<li><a href=\"/priceglitches/\"><span class=\"octicon octicon-flame\"></span> Price Glitches</a></li>\n",
      "<li><a href=\"/pricechanges/\"><span class=\"octicon octicon-git-compare\"></span> Price Tracking</a></li>\n",
      "<li><a href=\"/linux/\"><i class=\"icon icon-linux\"></i> Linux Products</a></li>\n",
      "<li class=\"divider\"></li>\n",
      "<li><a href=\"/admin/keynames/\"><span class=\"octicon octicon-circuit-board\"></span> Keynames</a></li>\n",
      "</ul>\n",
      "</li>\n",
      "<li class=\"dropdown\">\n",
      "<a href=\"/subs/\">Packages <b class=\"caret\"></b></a>\n",
      "<ul class=\"dropdown-menu\">\n",
      "<li><a href=\"/subs/\"><span class=\"octicon octicon-package\"></span> Packages</a></li>\n",
      "<li><a href=\"/bundles/\"><span class=\"octicon octicon-file-submodule\"></span> Bundles</a></li>\n",
      "<li><a href=\"/history/subs/\"><span class=\"octicon octicon-history\"></span> History</a></li>\n",
      "<li><a href=\"/search/?a=sub\"><span class=\"octicon octicon-search\"></span> Search</a></li>\n",
      "<li class=\"divider\"></li>\n",
      "<li><a href=\"/admin/keynames/?type=sub\"><span class=\"octicon octicon-circuit-board\"></span> Keynames</a></li>\n",
      "</ul>\n",
      "</li>\n",
      "<li><a href=\"/sales/\">Sales</a></li>\n",
      "<li><a href=\"/calculator/\">Calculator</a></li>\n",
      "<li><a href=\"/patchnotes/\">Patch notes</a></li>\n",
      "<li class=\"dropdown\">\n",
      "<a href=\"#\" onclick=\"return false;\">Stats <b class=\"caret\"></b></a>\n",
      "<ul class=\"dropdown-menu\">\n",
      "<li><a href=\"/graph/\"><span class=\"octicon octicon-pulse\"></span> Online Charts</a></li>\n",
      "<li class=\"divider\"></li>\n",
      "<li><a href=\"/badges/?badgeid=13\"><span class=\"octicon octicon-globe\"></span> Top Game Owners</a></li>\n",
      "<li><a href=\"/stats/toplevels/\"><span class=\"octicon octicon-globe\"></span> Top Steam Levels</a></li>\n",
      "<li><a href=\"/stats/gameratings/\"><span class=\"octicon octicon-graph\"></span> Top Rated Games</a></li>\n",
      "<li class=\"divider\"></li>\n",
      "<li><a href=\"/badges/\"><span class=\"octicon octicon-paintcan\"></span> Badges</a></li>\n",
      "<li><a href=\"/genres/\"><span class=\"octicon octicon-list-unordered\"></span> Genres</a></li>\n",
      "<li><a href=\"/tags/\"><span class=\"octicon octicon-tag\"></span> Tags</a></li>\n",
      "<li><a href=\"/broadcasts/\"><span class=\"octicon octicon-broadcast\"></span> Broadcasts</a></li>\n",
      "<li><a href=\"/stats/bans/\"><span class=\"octicon octicon-shield\"></span> Latest VAC Bans</a></li>\n",
      "</ul>\n",
      "</li>\n",
      "<li class=\"dropdown\">\n",
      "<a href=\"#\" onclick=\"return false;\">Other <b class=\"caret\"></b></a>\n",
      "<ul class=\"dropdown-menu\">\n",
      "<li><a href=\"/realtime/\"><span class=\"octicon octicon-hubot\"></span> Realtime Updates</a></li>\n",
      "<li><a href=\"/blog/\"><span class=\"octicon octicon-megaphone\"></span> Blog</a></li>\n",
      "<li><a href=\"/forum/\"><span class=\"octicon octicon-comment-discussion\"></span> Forum</a></li>\n",
      "<li><a href=\"/faq/\"><span class=\"octicon octicon-question\"></span> FAQ &amp; Help</a></li>\n",
      "<li><a href=\"/donate/\" rel=\"nofollow\" class=\"b\"><span class=\"octicon octicon-heart\"></span> Donate</a></li>\n",
      "<li><a href=\"/extension/\"><span class=\"octicon octicon-desktop-download\"></span> Get our extension</a></li>\n",
      "<li><a href=\"https://steamstat.us/\"><span class=\"octicon octicon-server\"></span> Steam Status</a></li>\n",
      "</ul>\n",
      "</li>\n",
      "<li class=\"pull-right\">\n",
      "<a class=\"header-login\" href=\"/login/?page=app%2F517480\">\n",
      "<svg class=\"header-piston\" xmlns=\"http://www.w3.org/2000/svg\" viewBox=\"0 0 20 16\" width=\"20\" height=\"16\">\n",
      "<circle stroke-width=\"1.5\" cy=\"4.5\" cx=\"15.5\" r=\"3.75\" class=\"stroke\"/>\n",
      "<circle cx=\"15.5\" cy=\"4.5\" r=\"1.855\" class=\"fill\"/>\n",
      "<path d=\"M11.656 4.2L12.75 7.14l2.865 1.387-5.13 3.853-.867-2.09-1.773-.942z\" class=\"fill\"/>\n",
      "<circle cy=\"12.5\" cx=\"7.5\" r=\"3\" class=\"stroke\"/>\n",
      "<rect transform=\"matrix(.92432 .3816 -.38727 .92196 0 0)\" ry=\"1.526\" width=\"9.477\" y=\"7.155\" x=\"3.767\" height=\"3.053\" class=\"fill\"/>\n",
      "</svg>\n",
      "<span>Sign In</span>\n",
      "</a>\n",
      "</li>\n",
      "<li class=\"pull-right\">\n",
      "<form class=\"header-search\" method=\"GET\" action=\"/search/\" itemprop=\"potentialAction\" itemscope itemtype=\"http://schema.org/SearchAction\">\n",
      "<meta itemprop=\"target\" content=\"https://steamdb.info/search/?a=app&amp;q={searchTerm}\">\n",
      "<input type=\"hidden\" name=\"a\" value=\"app\">\n",
      "<input type=\"search\" class=\"field\" id=\"js-header-search\" name=\"q\" maxlength=\"200\" placeholder=\"Search…\" itemprop=\"query-input\">\n",
      "<div class=\"search-hint\">\n",
      "<b>Ctrl+Enter</b>: Redirect to entered appid.<br>\n",
      "<b>Ctrl+Shift+Enter</b>: Redirect to entered subid.\n",
      "</div>\n",
      "<button type=\"submit\" class=\"octicon octicon-search\"></button>\n",
      "</form>\n",
      "</li>\n",
      "</ul>\n",
      "</div>\n",
      "<script src=\"/static/js/global.f76bc330.js\"></script>\n",
      "</div>\n",
      "<div class=\"scope-app\" itemscope itemtype=\"http://schema.org/SoftwareApplication\" data-appid=\"517480\" data-default-tab=\"prices\">\n",
      "<div class=\"header-wrapper header-app owned\" style=\"background-image:url('/static/camo/apps/517480/page_bg_generated_v6b.jpg')\">\n",
      "<div class=\"container\">\n",
      "<div class=\"pagehead clearfix\">\n",
      "<ul class=\"pagehead-actions\">\n",
      "<li>\n",
      "<a href=\"steam://install/517480\" class=\"btn btn-sm tooltipped tooltipped-s\" aria-label=\"This will launch Steam and install this app (if you own it)\">\n",
      "<span class=\"octicon octicon-desktop-download\"></span>\n",
      "Install\n",
      "</a>\n",
      "</li>\n",
      "<li class=\"panel-ownership todo-rm-style\" hidden>\n",
      "<a href=\"steam://install/517480\" class=\"btn btn-sm btn-primary tooltipped tooltipped-s\" aria-label=\"You own this game, click to install\">\n",
      "<span class=\"octicon octicon-list-unordered\"></span> Owned\n",
      "</a>\n",
      "</li>\n",
      "<li><button type=\"button\" class=\"btn btn-sm tooltipped tooltipped-s\" disabled aria-label=\"You must be signed in to watch an app\"><span class=\"octicon octicon-eye\"></span> <span id=\"js-watch-text\">Watch</span></button></li>\n",
      "<li><a class=\"btn btn-sm\" href=\"/forum/apps/?appid=517480\"><span class=\"octicon octicon-comment-discussion\"></span> Discuss</a></li>\n",
      "</ul>\n",
      "<img class=\"app-icon avatar\" src=\"https://steamcdn-a.akamaihd.net/steamcommunity/public/images/apps/517480/4e70c95afe00bc220f32ba82f4e714dcb35ce3f4.jpg\" itemprop=\"image\" alt=\"App Logo\" width=\"32\" height=\"32\" onerror=\"this.onerror=null;this.src='/static/img/default.jpg'\">\n",
      "<h1 class=\"css-truncate\">VHSoverdose</h1>\n",
      "</div>\n",
      "<div class=\"row app-row\">\n",
      "<div class=\"span8\">\n",
      "<table class=\"table table-bordered table-hover table-dark\">\n",
      "<tbody>\n",
      "<tr>\n",
      "<td class=\"span3\">App ID</td>\n",
      "<td>517480</td>\n",
      "</tr>\n",
      "<tr>\n",
      "<td>App Type</td>\n",
      "<td itemprop=\"applicationCategory\">Game</td>\n",
      "</tr>\n",
      "<tr>\n",
      "<td>Name</td>\n",
      "<td itemprop=\"name\">VHSoverdose</td>\n",
      "</tr>\n",
      "<tr>\n",
      "<td>Developer<a href=\"/search/?a=app_keynames&amp;keyname=23&amp;operator=3&amp;keyvalue=CallThePolices\" class=\"i muted pull-right tooltipped tooltipped-n\" aria-label=\"More from this developer\"><span class=\"octicon octicon-primitive-dot\"></span></a></td>\n",
      "<td><span itemprop=\"author\">CallThePolices</span></td>\n",
      "</tr>\n",
      "<tr>\n",
      "<td>Publisher<a href=\"/search/?a=app_keynames&amp;keyname=241&amp;operator=3&amp;keyvalue=CallThePolices\" class=\"i muted pull-right tooltipped tooltipped-n\" aria-label=\"More from this publisher\"><span class=\"octicon octicon-primitive-dot\"></span></a></td>\n",
      "<td><span itemprop=\"publisher\">CallThePolices</span></td>\n",
      "</tr>\n",
      "<tr>\n",
      "<td>Supported Systems</td>\n",
      "<td><i class=\"icon icon-windows tooltipped tooltipped-n\" aria-label=\"Windows\"></i></td>\n",
      "</tr>\n",
      "<tr>\n",
      "<td>Last Record Update</td>\n",
      "<td><span class=\"timeago\" title=\"2017-07-11T02:18:31+00:00\"></span> <i class=\"muted\">(July 11, 2017 – 02:18:31 UTC)</i></td>\n",
      "</tr>\n",
      "<tr>\n",
      "<td>Last Change Number <a href=\"/faq/#changenumber\" class=\"pull-right muted\"><span class=\"octicon octicon-question\"></span></a></td>\n",
      "<td><a href=\"/changelist/3175267/\" rel=\"nofollow\">3175267</a></td>\n",
      "</tr>\n",
      "<tr>\n",
      "<td>Release Date</td>\n",
      "<td>September 20, 2016 <i class=\"muted\">(<span class=\"timeago\" title=\"2016-09-20T00:00:00+00:00\"></span>)</i></td>\n",
      "</tr>\n",
      "</tbody>\n",
      "</table>\n",
      "<nav class=\"app-links\">\n",
      "<a href=\"//partner.steamgames.com/apps/landing/517480\" class=\"tooltipped tooltipped-n\" aria-label=\"Manage this app on Steam partner site\"><span class=\"octicon octicon-circuit-board\"></span></a>\n",
      "<a href=\"http://store.steampowered.com/app/517480/?utm_source=SteamDB&amp;utm_medium=SteamDB&amp;utm_campaign=SteamDB%20App%20Page\">Steam Store</a>\n",
      "<a href=\"//steamcommunity.com/app/517480/?utm_source=SteamDB&amp;utm_medium=SteamDB&amp;utm_campaign=SteamDB%20App%20Page\">Steam Hub</a>\n",
      "<a href=\"http://pcgamingwiki.com/api/appid.php?appid=517480\" class=\"tooltipped tooltipped-n\" aria-label=\"View article on PCGamingWiki\"><img src=\"/static/img/pcgamingwiki.svg\" width=\"16\" height=\"16\"></a>\n",
      "</nav>\n",
      "</div>\n",
      "<div class=\"span4\">\n",
      "<img src=\"/static/camo/apps/517480/header.jpg\" class=\"app-logo\" itemprop=\"image\" alt=\"App Logo\" width=\"324\" height=\"151\" onerror=\"this.onerror=null;this.src='https://steamcdn-a.akamaihd.net/steamcommunity/public/images/apps/517480/f8d598a1d167ee369a7fd31dfa4c9dd026fa757c.jpg'\">\n",
      "<div>\n",
      "<span class=\"header-thing header-thing-poor tooltipped tooltipped-n\" aria-label=\"25.00% of the 4 user reviews for this game are positive.&#xa;&#xa;User Reviews Wilson Score (positive / negative)\" itemprop=\"aggregateRating\" itemscope itemtype=\"http://schema.org/AggregateRating\">\n",
      "<meta itemprop=\"worstRating\" content=\"0\">\n",
      "<meta itemprop=\"bestRating\" content=\"100\">\n",
      "<meta itemprop=\"ratingValue\" content=\"3.74\">\n",
      "<meta itemprop=\"reviewCount\" content=\"4\">\n",
      "<span class=\"octicon octicon-thumbsdown\"></span> 3.74%\n",
      "<small class=\"muted\"> (\n",
      "1 / <i class=\"header-thing-poor\">3</i>\n",
      ")</small>\n",
      "</span>\n",
      "<a href=\"/app/517480/graphs/\" class=\"header-thing header-thing-poor\" id=\"js-graphs-button\">\n",
      "<span class=\"octicon octicon-pulse\"></span>\n",
      "0\n",
      "In-Game\n",
      "</a>\n",
      "</div>\n",
      "<div class=\"header-thing header-thing-full\">\n",
      "<a href=\"/search/?a=app&amp;q=&amp;category=2\" class=\"tooltipped tooltipped-n\" aria-label=\"Single-player\">\n",
      "<img src=\"/static/img/categories/2.png\" width=\"26\" height=\"16\" alt=\"\">\n",
      "</a>\n",
      "<a href=\"/search/?a=app&amp;q=&amp;category=28\" class=\"tooltipped tooltipped-n\" aria-label=\"Full controller support\">\n",
      "<img src=\"/static/img/categories/28.png\" width=\"26\" height=\"16\" alt=\"\">\n",
      "</a>\n",
      "<a href=\"/search/?a=app&amp;q=&amp;category=29\" class=\"tooltipped tooltipped-n\" aria-label=\"Steam Trading Cards\">\n",
      "<img src=\"/static/img/categories/29.png\" width=\"26\" height=\"16\" alt=\"\">\n",
      "</a>\n",
      "</div>\n",
      "<div class=\"clearfix\"></div>\n",
      "<p class=\"header-description\">VHSoverdose is an unrelenting assault of outlandish action, served up with thick juicy slice of anatomical annihilation! Set inside of the confides of a simple 80&#039;s Arcade Machine... Or is it?</p>\n",
      "</div>\n",
      "</div>\n",
      "</div>\n",
      "</div>\n",
      "</div>\n",
      "<div class=\"container\">\n",
      "<div class=\"tabbable\">\n",
      "<div class=\"tabnav\">\n",
      "<nav class=\"tabnav-tabs\">\n",
      "<a href=\"/app/517480/\" data-target=\"#prices\" id=\"tab-prices\" class=\"tabnav-tab selected\"><span class=\"octicon octicon-credit-card\"></span> Prices</a><a href=\"/app/517480/info/\" data-target=\"#info\" id=\"tab-info\" class=\"tabnav-tab\"><span class=\"octicon octicon-info\"></span> Information</a><a href=\"/app/517480/graphs/\" data-target=\"#graphs\" id=\"tab-graphs\" class=\"tabnav-tab\"><span class=\"octicon octicon-pulse\"></span> Graphs</a>\n",
      "<a href=\"/app/517480/subs/\" data-target=\"#subs\" class=\"tabnav-tab\"><span class=\"octicon octicon-package\"></span> Packages <span class=\"counter\">3</span></a>\n",
      "<a href=\"/app/517480/depots/\" data-target=\"#depots\" class=\"tabnav-tab\"><span class=\"octicon octicon-repo\"></span> Depots <span class=\"counter\">4</span></a><a href=\"/app/517480/config/\" data-target=\"#config\" class=\"tabnav-tab\"><span class=\"octicon octicon-gear\"></span> Configuration</a>\n",
      "<a href=\"/app/517480/history/\" data-target=\"#history\" class=\"tabnav-tab\"><span class=\"octicon octicon-history\"></span> History</a>\n",
      "</nav>\n",
      "</div>\n",
      "<div class=\"tab-content\">\n",
      "<div class=\"tab-pane selected\" id=\"prices\">\n",
      "<div class=\"pull-right\">\n",
      "<div class=\"dropdown currency-dropdown\">\n",
      "<div class=\"btn\">\n",
      "<img src=\"/static/p.gif\" class=\"flag flag-us\" alt=\"us\" width=\"16\" height=\"11\">\n",
      "Change Currency <b class=\"caret\"></b>\n",
      "</div>\n",
      "<ul class=\"dropdown-menu\">\n",
      "<li class=\"active\">\n",
      "<a href=\"?cc=us\" class=\"cc\" data-cc=\"us\">\n",
      "<img src=\"/static/p.gif\" class=\"flag flag-us\" alt=\"us\" width=\"16\" height=\"11\"> U.S. Dollar\n",
      "</a>\n",
      "</li>\n",
      "<li>\n",
      "<a href=\"?cc=uk\" class=\"cc\" data-cc=\"uk\">\n",
      "<img src=\"/static/p.gif\" class=\"flag flag-uk\" alt=\"uk\" width=\"16\" height=\"11\"> British Pound\n",
      "</a>\n",
      "</li>\n",
      "<li>\n",
      "<a href=\"?cc=eu\" class=\"cc\" data-cc=\"eu\">\n",
      "<img src=\"/static/p.gif\" class=\"flag flag-eu\" alt=\"eu\" width=\"16\" height=\"11\"> Euro\n",
      "</a>\n",
      "</li>\n",
      "<li>\n",
      "<a href=\"?cc=ru\" class=\"cc\" data-cc=\"ru\">\n",
      "<img src=\"/static/p.gif\" class=\"flag flag-ru\" alt=\"ru\" width=\"16\" height=\"11\"> Russian Ruble\n",
      "</a>\n",
      "</li>\n",
      "<li>\n",
      "<a href=\"?cc=az\" class=\"cc\" data-cc=\"az\">\n",
      "<img src=\"/static/p.gif\" class=\"flag flag-az\" alt=\"az\" width=\"16\" height=\"11\"> CIS - U.S. Dollar\n",
      "</a>\n",
      "</li>\n",
      "<li>\n",
      "<a href=\"?cc=br\" class=\"cc\" data-cc=\"br\">\n",
      "<img src=\"/static/p.gif\" class=\"flag flag-br\" alt=\"br\" width=\"16\" height=\"11\"> Brazilian Real\n",
      "</a>\n",
      "</li>\n",
      "<li>\n",
      "<a href=\"?cc=jp\" class=\"cc\" data-cc=\"jp\">\n",
      "<img src=\"/static/p.gif\" class=\"flag flag-jp\" alt=\"jp\" width=\"16\" height=\"11\"> Japanese Yen\n",
      "</a>\n",
      "</li>\n",
      "<li>\n",
      "<a href=\"?cc=ph\" class=\"cc\" data-cc=\"ph\">\n",
      "<img src=\"/static/p.gif\" class=\"flag flag-ph\" alt=\"ph\" width=\"16\" height=\"11\"> Philippine Peso\n",
      "</a>\n",
      "</li>\n",
      "<li>\n",
      "<a href=\"?cc=th\" class=\"cc\" data-cc=\"th\">\n",
      "<img src=\"/static/p.gif\" class=\"flag flag-th\" alt=\"th\" width=\"16\" height=\"11\"> Thai Baht\n",
      "</a>\n",
      "</li>\n",
      "<li>\n",
      "<a href=\"?cc=my\" class=\"cc\" data-cc=\"my\">\n",
      "<img src=\"/static/p.gif\" class=\"flag flag-my\" alt=\"my\" width=\"16\" height=\"11\"> Malaysian Ringgit\n",
      "</a>\n",
      "</li>\n",
      "<li>\n",
      "<a href=\"?cc=sg\" class=\"cc\" data-cc=\"sg\">\n",
      "<img src=\"/static/p.gif\" class=\"flag flag-sg\" alt=\"sg\" width=\"16\" height=\"11\"> Singapore Dollar\n",
      "</a>\n",
      "</li>\n",
      "<li>\n",
      "<a href=\"?cc=id\" class=\"cc\" data-cc=\"id\">\n",
      "<img src=\"/static/p.gif\" class=\"flag flag-id\" alt=\"id\" width=\"16\" height=\"11\"> Indonesian Rupiah\n",
      "</a>\n",
      "</li>\n",
      "<li>\n",
      "<a href=\"?cc=no\" class=\"cc\" data-cc=\"no\">\n",
      "<img src=\"/static/p.gif\" class=\"flag flag-no\" alt=\"no\" width=\"16\" height=\"11\"> Norwegian Krone\n",
      "</a>\n",
      "</li>\n",
      "<li>\n",
      "<a href=\"?cc=ca\" class=\"cc\" data-cc=\"ca\">\n",
      "<img src=\"/static/p.gif\" class=\"flag flag-ca\" alt=\"ca\" width=\"16\" height=\"11\"> Canadian Dollar\n",
      "</a>\n",
      "</li>\n",
      "<li>\n",
      "<a href=\"?cc=tr\" class=\"cc\" data-cc=\"tr\">\n",
      "<img src=\"/static/p.gif\" class=\"flag flag-tr\" alt=\"tr\" width=\"16\" height=\"11\"> Turkish Lira\n",
      "</a>\n",
      "</li>\n",
      "<li>\n",
      "<a href=\"?cc=mx\" class=\"cc\" data-cc=\"mx\">\n",
      "<img src=\"/static/p.gif\" class=\"flag flag-mx\" alt=\"mx\" width=\"16\" height=\"11\"> Mexican Peso\n",
      "</a>\n",
      "</li>\n",
      "<li>\n",
      "<a href=\"?cc=nz\" class=\"cc\" data-cc=\"nz\">\n",
      "<img src=\"/static/p.gif\" class=\"flag flag-nz\" alt=\"nz\" width=\"16\" height=\"11\"> New Zealand Dollar\n",
      "</a>\n",
      "</li>\n",
      "<li>\n",
      "<a href=\"?cc=in\" class=\"cc\" data-cc=\"in\">\n",
      "<img src=\"/static/p.gif\" class=\"flag flag-in\" alt=\"in\" width=\"16\" height=\"11\"> Indian Rupee\n",
      "</a>\n",
      "</li>\n",
      "<li>\n",
      "<a href=\"?cc=hk\" class=\"cc\" data-cc=\"hk\">\n",
      "<img src=\"/static/p.gif\" class=\"flag flag-hk\" alt=\"hk\" width=\"16\" height=\"11\"> Hong Kong Dollar\n",
      "</a>\n",
      "</li>\n",
      "<li>\n",
      "<a href=\"?cc=tw\" class=\"cc\" data-cc=\"tw\">\n",
      "<img src=\"/static/p.gif\" class=\"flag flag-tw\" alt=\"tw\" width=\"16\" height=\"11\"> Taiwan Dollar\n",
      "</a>\n",
      "</li>\n",
      "<li>\n",
      "<a href=\"?cc=cn\" class=\"cc\" data-cc=\"cn\">\n",
      "<img src=\"/static/p.gif\" class=\"flag flag-cn\" alt=\"cn\" width=\"16\" height=\"11\"> Chinese Yuan\n",
      "</a>\n",
      "</li>\n",
      "<li>\n",
      "<a href=\"?cc=za\" class=\"cc\" data-cc=\"za\">\n",
      "<img src=\"/static/p.gif\" class=\"flag flag-za\" alt=\"za\" width=\"16\" height=\"11\"> South African Rand\n",
      "</a>\n",
      "</li>\n",
      "<li>\n",
      "<a href=\"?cc=sa\" class=\"cc\" data-cc=\"sa\">\n",
      "<img src=\"/static/p.gif\" class=\"flag flag-sa\" alt=\"sa\" width=\"16\" height=\"11\"> Saudi Riyal\n",
      "</a>\n",
      "</li>\n",
      "<li>\n",
      "<a href=\"?cc=ae\" class=\"cc\" data-cc=\"ae\">\n",
      "<img src=\"/static/p.gif\" class=\"flag flag-ae\" alt=\"ae\" width=\"16\" height=\"11\"> UAE Dirham\n",
      "</a>\n",
      "</li>\n",
      "<li>\n",
      "<a href=\"?cc=kr\" class=\"cc\" data-cc=\"kr\">\n",
      "<img src=\"/static/p.gif\" class=\"flag flag-kr\" alt=\"kr\" width=\"16\" height=\"11\"> South Korean Won\n",
      "</a>\n",
      "</li>\n",
      "<li>\n",
      "<a href=\"?cc=ch\" class=\"cc\" data-cc=\"ch\">\n",
      "<img src=\"/static/p.gif\" class=\"flag flag-ch\" alt=\"ch\" width=\"16\" height=\"11\"> Swiss Franc\n",
      "</a>\n",
      "</li>\n",
      "<li>\n",
      "<a href=\"?cc=cl\" class=\"cc\" data-cc=\"cl\">\n",
      "<img src=\"/static/p.gif\" class=\"flag flag-cl\" alt=\"cl\" width=\"16\" height=\"11\"> Chilean Peso\n",
      "</a>\n",
      "</li>\n",
      "<li>\n",
      "<a href=\"?cc=pe\" class=\"cc\" data-cc=\"pe\">\n",
      "<img src=\"/static/p.gif\" class=\"flag flag-pe\" alt=\"pe\" width=\"16\" height=\"11\"> Peruvian Nuevo Sol\n",
      "</a>\n",
      "</li>\n",
      "<li>\n",
      "<a href=\"?cc=co\" class=\"cc\" data-cc=\"co\">\n",
      "<img src=\"/static/p.gif\" class=\"flag flag-co\" alt=\"co\" width=\"16\" height=\"11\"> Colombian Peso\n",
      "</a>\n",
      "</li>\n",
      "</ul>\n",
      "</div>\n",
      "</div>\n",
      "<h2>Store Prices</h2>\n",
      "<div class=\"muted\">\n",
      "<span class=\"octicon octicon-info\"></span>\n",
      "Click on a currency name to load price history for that currency.\n",
      "</div>\n",
      "<table class=\"table table-fixed table-prices table-hover table-sortable\">\n",
      "<thead>\n",
      "<tr>\n",
      "<th class=\"span3\">Currency</th>\n",
      "<th class=\"span3 no-sort\">Current Price</th>\n",
      "<th class=\"span3 sort-default sort-up\" colspan=\"2\">Converted Price</th>\n",
      "<th class=\"no-sort\">Lowest Recorded Price <small class=\"timeago pull-right\" title=\"2016-12-21T13:10:27+00:00\">December 21, 2016</small></th>\n",
      "</tr>\n",
      "</thead>\n",
      "<tbody>\n",
      "<tr class=\"owned\">\n",
      "<td class=\"price-line\" id=\"js-price-history\" data-cc=\"us\">\n",
      "<img src=\"/static/p.gif\" class=\"flag flag-us\" alt=\"us\" width=\"16\" height=\"11\"> U.S. Dollar\n",
      "</td>\n",
      "<td data-sort=\"0\">$3.99</td>\n",
      "<td class=\"muted\" data-sort=\"399\" colspan=\"2\">Base Price</td>\n",
      "<td title=\"September 23, 2016\">$3.99</td>\n",
      "</tr>\n",
      "<tr>\n",
      "<td class=\"price-line\" data-cc=\"uk\">\n",
      "<img src=\"/static/p.gif\" class=\"flag flag-uk\" alt=\"uk\" width=\"16\" height=\"11\"> British Pound\n",
      "</td>\n",
      "<td data-sort=\"0\">£2.79</td>\n",
      "<td data-sort=\"365.3625797793\">$3.65</td>\n",
      "<td class=\"price-discount\">-8.43%</td>\n",
      "<td title=\"September 23, 2016\">£2.79</td>\n",
      "</tr>\n",
      "<tr>\n",
      "<td class=\"price-line\" data-cc=\"eu\">\n",
      "<img src=\"/static/p.gif\" class=\"flag flag-eu\" alt=\"eu\" width=\"16\" height=\"11\"> Euro\n",
      "</td>\n",
      "<td data-sort=\"0\">3,99€</td>\n",
      "<td data-sort=\"457.5730052481\">$4.58</td>\n",
      "<td class=\"price-discount-minor\">+14.68%</td>\n",
      "<td title=\"September 23, 2016\">3,99€</td>\n",
      "</tr>\n",
      "<tr>\n",
      "<td class=\"price-line\" data-cc=\"ru\">\n",
      "<img src=\"/static/p.gif\" class=\"flag flag-ru\" alt=\"ru\" width=\"16\" height=\"11\"> Russian Ruble\n",
      "</td>\n",
      "<td data-sort=\"0\">99р.</td>\n",
      "<td data-sort=\"167.6403352800\">$1.68</td>\n",
      "<td class=\"price-discount-major\">-57.98%</td>\n",
      "<td title=\"September 23, 2016\">99р.</td>\n",
      "</tr>\n",
      "<tr>\n",
      "<td class=\"price-line\" data-cc=\"az\">\n",
      "<img src=\"/static/p.gif\" class=\"flag flag-az\" alt=\"az\" width=\"16\" height=\"11\"> CIS - U.S. Dollar\n",
      "</td>\n",
      "<td data-sort=\"0\">$2.79</td>\n",
      "<td data-sort=\"279\">$2.79</td>\n",
      "<td class=\"price-discount\">-30.08%</td>\n",
      "<td title=\"December 21, 2016\">$2.79</td>\n",
      "</tr>\n",
      "<tr>\n",
      "<td class=\"price-line\" data-cc=\"br\">\n",
      "<img src=\"/static/p.gif\" class=\"flag flag-br\" alt=\"br\" width=\"16\" height=\"11\"> Brazilian Real\n",
      "</td>\n",
      "<td data-sort=\"0\">R$8,39</td>\n",
      "<td data-sort=\"263.811590055\">$2.64</td>\n",
      "<td class=\"price-discount\">-33.88%</td>\n",
      "<td title=\"September 23, 2016\">R$8,39</td>\n",
      "</tr>\n",
      "<tr>\n",
      "<td class=\"price-line\" data-cc=\"jp\">\n",
      "<img src=\"/static/p.gif\" class=\"flag flag-jp\" alt=\"jp\" width=\"16\" height=\"11\"> Japanese Yen\n",
      "</td>\n",
      "<td data-sort=\"0\">¥ 398</td>\n",
      "<td data-sort=\"353.6228845800\">$3.54</td>\n",
      "<td class=\"price-discount\">-11.37%</td>\n",
      "<td title=\"December 21, 2016\">¥ 398</td>\n",
      "</tr>\n",
      "<tr>\n",
      "<td class=\"price-line\" data-cc=\"ph\">\n",
      "<img src=\"/static/p.gif\" class=\"flag flag-ph\" alt=\"ph\" width=\"16\" height=\"11\"> Philippine Peso\n",
      "</td>\n",
      "<td data-sort=\"0\">₱135.95</td>\n",
      "<td data-sort=\"268.5166884820\">$2.69</td>\n",
      "<td class=\"price-discount\">-32.70%</td>\n",
      "<td title=\"September 23, 2016\">₱135.95</td>\n",
      "</tr>\n",
      "<tr>\n",
      "<td class=\"price-line\" data-cc=\"th\">\n",
      "<img src=\"/static/p.gif\" class=\"flag flag-th\" alt=\"th\" width=\"16\" height=\"11\"> Thai Baht\n",
      "</td>\n",
      "<td data-sort=\"0\">฿99.00</td>\n",
      "<td data-sort=\"293.3376781500\">$2.93</td>\n",
      "<td class=\"price-discount\">-26.48%</td>\n",
      "<td title=\"September 23, 2016\">฿99.00</td>\n",
      "</tr>\n",
      "<tr>\n",
      "<td class=\"price-line\" data-cc=\"my\">\n",
      "<img src=\"/static/p.gif\" class=\"flag flag-my\" alt=\"my\" width=\"16\" height=\"11\"> Malaysian Ringgit\n",
      "</td>\n",
      "<td data-sort=\"0\">RM10.00</td>\n",
      "<td data-sort=\"232.9644729000\">$2.33</td>\n",
      "<td class=\"price-discount\">-41.61%</td>\n",
      "<td title=\"December 21, 2016\">RM10.00</td>\n",
      "</tr>\n",
      "<tr>\n",
      "<td class=\"price-line\" data-cc=\"sg\">\n",
      "<img src=\"/static/p.gif\" class=\"flag flag-sg\" alt=\"sg\" width=\"16\" height=\"11\"> Singapore Dollar\n",
      "</td>\n",
      "<td data-sort=\"0\">S$4.50</td>\n",
      "<td data-sort=\"328.2395418900\">$3.28</td>\n",
      "<td class=\"price-discount\">-17.73%</td>\n",
      "<td title=\"September 23, 2016\">S$4.50</td>\n",
      "</tr>\n",
      "<tr>\n",
      "<td class=\"price-line\" data-cc=\"id\">\n",
      "<img src=\"/static/p.gif\" class=\"flag flag-id\" alt=\"id\" width=\"16\" height=\"11\"> Indonesian Rupiah\n",
      "</td>\n",
      "<td data-sort=\"0\">Rp 35,999</td>\n",
      "<td data-sort=\"270.395688800\">$2.70</td>\n",
      "<td class=\"price-discount\">-32.23%</td>\n",
      "<td title=\"September 23, 2016\">Rp 35,999</td>\n",
      "</tr>\n",
      "<tr>\n",
      "<td class=\"price-line\" data-cc=\"no\">\n",
      "<img src=\"/static/p.gif\" class=\"flag flag-no\" alt=\"no\" width=\"16\" height=\"11\"> Norwegian Krone\n",
      "</td>\n",
      "<td data-sort=\"0\">30,00 kr</td>\n",
      "<td data-sort=\"366.8423433000\">$3.67</td>\n",
      "<td class=\"price-discount\">-8.06%</td>\n",
      "<td title=\"December 21, 2016\">30,00 kr</td>\n",
      "</tr>\n",
      "<tr>\n",
      "<td class=\"price-line\" data-cc=\"ca\">\n",
      "<img src=\"/static/p.gif\" class=\"flag flag-ca\" alt=\"ca\" width=\"16\" height=\"11\"> Canadian Dollar\n",
      "</td>\n",
      "<td data-sort=\"0\">C$4.49</td>\n",
      "<td data-sort=\"355.0389435513\">$3.55</td>\n",
      "<td class=\"price-discount\">-11.02%</td>\n",
      "<td title=\"December 21, 2016\">C$4.49</td>\n",
      "</tr>\n",
      "<tr>\n",
      "<td class=\"price-line\" data-cc=\"tr\">\n",
      "<img src=\"/static/p.gif\" class=\"flag flag-tr\" alt=\"tr\" width=\"16\" height=\"11\"> Turkish Lira\n",
      "</td>\n",
      "<td data-sort=\"0\">₺8,00</td>\n",
      "<td data-sort=\"226.1432956800\">$2.26</td>\n",
      "<td class=\"price-discount\">-43.32%</td>\n",
      "<td title=\"September 23, 2016\">₺8,00</td>\n",
      "</tr>\n",
      "<tr>\n",
      "<td class=\"price-line\" data-cc=\"mx\">\n",
      "<img src=\"/static/p.gif\" class=\"flag flag-mx\" alt=\"mx\" width=\"16\" height=\"11\"> Mexican Peso\n",
      "</td>\n",
      "<td data-sort=\"0\">Mex$45.99</td>\n",
      "<td data-sort=\"261.8547043266\">$2.62</td>\n",
      "<td class=\"price-discount\">-34.37%</td>\n",
      "<td title=\"September 23, 2016\">Mex$45.99</td>\n",
      "</tr>\n",
      "<tr>\n",
      "<td class=\"price-line\" data-cc=\"nz\">\n",
      "<img src=\"/static/p.gif\" class=\"flag flag-nz\" alt=\"nz\" width=\"16\" height=\"11\"> New Zealand Dollar\n",
      "</td>\n",
      "<td data-sort=\"0\">NZ$4.99</td>\n",
      "<td data-sort=\"366.5654142714\">$3.67</td>\n",
      "<td class=\"price-discount\">-8.13%</td>\n",
      "<td title=\"September 23, 2016\">NZ$4.99</td>\n",
      "</tr>\n",
      "<tr>\n",
      "<td class=\"price-line\" data-cc=\"in\">\n",
      "<img src=\"/static/p.gif\" class=\"flag flag-in\" alt=\"in\" width=\"16\" height=\"11\"> Indian Rupee\n",
      "</td>\n",
      "<td data-sort=\"0\">₹ 229</td>\n",
      "<td data-sort=\"356.2428034700\">$3.56</td>\n",
      "<td class=\"price-discount\">-10.72%</td>\n",
      "<td title=\"September 23, 2016\">₹ 229</td>\n",
      "</tr>\n",
      "<tr>\n",
      "<td class=\"price-line\" data-cc=\"hk\">\n",
      "<img src=\"/static/p.gif\" class=\"flag flag-hk\" alt=\"hk\" width=\"16\" height=\"11\"> Hong Kong Dollar\n",
      "</td>\n",
      "<td data-sort=\"0\">HK$30.00</td>\n",
      "<td data-sort=\"384.4409073000\">$3.84</td>\n",
      "<td class=\"price-discount\">-3.65%</td>\n",
      "<td title=\"December 21, 2016\">HK$30.00</td>\n",
      "</tr>\n",
      "<tr>\n",
      "<td class=\"price-line\" data-cc=\"tw\">\n",
      "<img src=\"/static/p.gif\" class=\"flag flag-tw\" alt=\"tw\" width=\"16\" height=\"11\"> Taiwan Dollar\n",
      "</td>\n",
      "<td data-sort=\"0\">NT$120.00</td>\n",
      "<td data-sort=\"394.9707060000\">$3.95</td>\n",
      "<td class=\"price-discount\">-1.01%</td>\n",
      "<td title=\"September 23, 2016\">NT$120.00</td>\n",
      "</tr>\n",
      "<tr>\n",
      "<td class=\"price-line\" data-cc=\"cn\">\n",
      "<img src=\"/static/p.gif\" class=\"flag flag-cn\" alt=\"cn\" width=\"16\" height=\"11\"> Chinese Yuan\n",
      "</td>\n",
      "<td data-sort=\"0\">¥18.00</td>\n",
      "<td data-sort=\"265.5670224600\">$2.66</td>\n",
      "<td class=\"price-discount\">-33.44%</td>\n",
      "<td title=\"September 23, 2016\">¥18.00</td>\n",
      "</tr>\n",
      "<tr>\n",
      "<td class=\"price-line\" data-cc=\"za\">\n",
      "<img src=\"/static/p.gif\" class=\"flag flag-za\" alt=\"za\" width=\"16\" height=\"11\"> South African Rand\n",
      "</td>\n",
      "<td data-sort=\"0\">R 47.00</td>\n",
      "<td data-sort=\"360.7174127900\">$3.61</td>\n",
      "<td class=\"price-discount\">-9.59%</td>\n",
      "<td title=\"September 23, 2016\">R 47.00</td>\n",
      "</tr>\n",
      "<tr>\n",
      "<td class=\"price-line\" data-cc=\"sa\">\n",
      "<img src=\"/static/p.gif\" class=\"flag flag-sa\" alt=\"sa\" width=\"16\" height=\"11\"> Saudi Riyal\n",
      "</td>\n",
      "<td data-sort=\"0\">14.00 SR</td>\n",
      "<td data-sort=\"373.303469000\">$3.73</td>\n",
      "<td class=\"price-discount\">-6.44%</td>\n",
      "<td title=\"December 21, 2016\">14.00 SR</td>\n",
      "</tr>\n",
      "<tr>\n",
      "<td class=\"price-line\" data-cc=\"ae\">\n",
      "<img src=\"/static/p.gif\" class=\"flag flag-ae\" alt=\"ae\" width=\"16\" height=\"11\"> UAE Dirham\n",
      "</td>\n",
      "<td data-sort=\"0\">14.00 AED</td>\n",
      "<td data-sort=\"381.1579468200\">$3.81</td>\n",
      "<td class=\"price-discount\">-4.47%</td>\n",
      "<td title=\"September 23, 2016\">14.00 AED</td>\n",
      "</tr>\n",
      "<tr>\n",
      "<td class=\"price-line\" data-cc=\"kr\">\n",
      "<img src=\"/static/p.gif\" class=\"flag flag-kr\" alt=\"kr\" width=\"16\" height=\"11\"> South Korean Won\n",
      "</td>\n",
      "<td data-sort=\"0\">₩ 4,400</td>\n",
      "<td data-sort=\"389.7012240000\">$3.90</td>\n",
      "<td class=\"price-discount\">-2.33%</td>\n",
      "<td title=\"December 21, 2016\">₩ 4,400</td>\n",
      "</tr>\n",
      "<tr>\n",
      "<td class=\"price-line\" data-cc=\"ch\">\n",
      "<img src=\"/static/p.gif\" class=\"flag flag-ch\" alt=\"ch\" width=\"16\" height=\"11\"> Swiss Franc\n",
      "</td>\n",
      "<td data-sort=\"0\">CHF 4.--</td>\n",
      "<td data-sort=\"415.2112646800\">$4.15</td>\n",
      "<td class=\"price-discount-minor\">+4.06%</td>\n",
      "<td title=\"December 21, 2016\">CHF 4.--</td>\n",
      "</tr>\n",
      "<tr>\n",
      "<td class=\"price-line\" data-cc=\"cl\">\n",
      "<img src=\"/static/p.gif\" class=\"flag flag-cl\" alt=\"cl\" width=\"16\" height=\"11\"> Chilean Peso\n",
      "</td>\n",
      "<td data-sort=\"0\">CLP$ 2,500</td>\n",
      "<td data-sort=\"380.2281250000\">$3.80</td>\n",
      "<td class=\"price-discount\">-4.70%</td>\n",
      "<td title=\"December 21, 2016\">CLP$ 2,500</td>\n",
      "</tr>\n",
      "<tr>\n",
      "<td class=\"price-line\" data-cc=\"pe\">\n",
      "<img src=\"/static/p.gif\" class=\"flag flag-pe\" alt=\"pe\" width=\"16\" height=\"11\"> Peruvian Nuevo Sol\n",
      "</td>\n",
      "<td data-sort=\"0\">S/. 11.95</td>\n",
      "<td data-sort=\"368.48596970\">$3.68</td>\n",
      "<td class=\"price-discount\">-7.65%</td>\n",
      "<td title=\"September 23, 2016\">S/. 11.95</td>\n",
      "</tr>\n",
      "<tr>\n",
      "<td class=\"price-line\" data-cc=\"co\">\n",
      "<img src=\"/static/p.gif\" class=\"flag flag-co\" alt=\"co\" width=\"16\" height=\"11\"> Colombian Peso\n",
      "</td>\n",
      "<td data-sort=\"0\">COL$ 9500</td>\n",
      "<td data-sort=\"314.6737250000\">$3.15</td>\n",
      "<td class=\"price-discount\">-21.13%</td>\n",
      "<td title=\"December 21, 2016\">COL$ 9500</td>\n",
      "</tr>\n",
      "</tbody>\n",
      "</table>\n",
      "<div class=\"chart\" id=\"js-chart-prices\" hidden></div>\n",
      "<iframe class=\"store-widget\" src=\"https://store.steampowered.com/widget/517480/\" width=\"940\" height=\"190\"></iframe>\n",
      "<h3>User Tags</h3>\n",
      "<a class=\"btn btn-sm btn-outline btn-tag\" href=\"/tags/?tagid=19\">Action</a><a class=\"btn btn-sm btn-outline btn-tag\" href=\"/tags/?tagid=492\">Indie</a>\n",
      "</div>\n",
      "<div class=\"tab-pane\" id=\"info\">\n",
      "<h2>Additional Information</h2>\n",
      "<table class=\"table table-bordered table-hover table-fixed\">\n",
      "<tbody>\n",
      "<tr>\n",
      "<td class=\"span3\">clienticon</td>\n",
      "<td><a href=\"https://steamcdn-a.akamaihd.net/steamcommunity/public/images/apps/517480/cb249fe35a1a8aad62c25b7dfd2c61c0557f3c7a.ico\" rel=\"nofollow\">cb249fe35a1a8aad62c25b7dfd2c61c0557f3c7a</a></td>\n",
      "</tr>\n",
      "<tr>\n",
      "<td class=\"span3\">clienttga</td>\n",
      "<td><a href=\"https://steamcdn-a.akamaihd.net/steamcommunity/public/images/apps/517480/2e9e153ce52dc3519aa510d9886ca8c15387269d.tga\" rel=\"nofollow\">2e9e153ce52dc3519aa510d9886ca8c15387269d</a></td>\n",
      "</tr>\n",
      "<tr>\n",
      "<td class=\"span3\">icon</td>\n",
      "<td><a href=\"https://steamcdn-a.akamaihd.net/steamcommunity/public/images/apps/517480/4e70c95afe00bc220f32ba82f4e714dcb35ce3f4.jpg\" rel=\"nofollow\">4e70c95afe00bc220f32ba82f4e714dcb35ce3f4</a></td>\n",
      "</tr>\n",
      "<tr>\n",
      "<td class=\"span3\">Genres</td>\n",
      "<td>Action,Indie</td>\n",
      "</tr>\n",
      "<tr>\n",
      "<td class=\"span3\">logo</td>\n",
      "<td><a href=\"https://steamcdn-a.akamaihd.net/steamcommunity/public/images/apps/517480/f8d598a1d167ee369a7fd31dfa4c9dd026fa757c.jpg\" rel=\"nofollow\">f8d598a1d167ee369a7fd31dfa4c9dd026fa757c</a></td>\n",
      "</tr>\n",
      "<tr>\n",
      "<td class=\"span3\">logo_small</td>\n",
      "<td><a href=\"https://steamcdn-a.akamaihd.net/steamcommunity/public/images/apps/517480/f8d598a1d167ee369a7fd31dfa4c9dd026fa757c_thumb.jpg\" rel=\"nofollow\">f8d598a1d167ee369a7fd31dfa4c9dd026fa757c_thumb</a></td>\n",
      "</tr>\n",
      "<tr>\n",
      "<td class=\"span3\">metacritic_name</td>\n",
      "<td>VHSoverdose</td>\n",
      "</tr>\n",
      "<tr>\n",
      "<td class=\"span3\">controller_support</td>\n",
      "<td>full</td>\n",
      "</tr>\n",
      "<tr>\n",
      "<td class=\"span3\">releasestate</td>\n",
      "<td>released</td>\n",
      "</tr>\n",
      "<tr>\n",
      "<td class=\"span3\">has_adult_content</td>\n",
      "<td>Yes</td>\n",
      "</tr>\n",
      "<tr>\n",
      "<td class=\"span3\">community_hub_visible</td>\n",
      "<td>Yes</td>\n",
      "</tr>\n",
      "<tr>\n",
      "<td class=\"span3\">small_capsule</td>\n",
      "<td><ul class=\"app-json\"><li><i>english:</i> <b>capsule_231x87.jpg</b></li></ul></td>\n",
      "</tr>\n",
      "<tr>\n",
      "<td class=\"span3\">header_image</td>\n",
      "<td><ul class=\"app-json\"><li><i>english:</i> <b>header.jpg</b></li></ul></td>\n",
      "</tr>\n",
      "<tr>\n",
      "<td class=\"span3\">store_tags</td>\n",
      "<td><ul><li><b>19</b>: <a href=\"/tags/?tagid=19\">Action</a></li><li><b>492</b>: <a href=\"/tags/?tagid=492\">Indie</a></li></ul></td>\n",
      "</tr>\n",
      "</tbody>\n",
      "</table>\n",
      "</div>\n",
      "<div class=\"tab-pane\" id=\"graphs\">\n",
      "<div class=\"steamspy\">\n",
      "<div class=\"span6\">\n",
      "<h2>Players online</h2>\n",
      "<ul class=\"steamspy-stats\">\n",
      "<li><strong>0</strong> right now</li>\n",
      "<li><strong>0</strong> 24 hour peak - <a href=\"https://twitter.com/intent/tweet?url=https%3A%2F%2Fsteamdb.info%2Fapp%2F517480%2Fgraphs%2F&amp;text=VHSoverdose%20today%20peaked%20on%20%23Steam%20at%200%20players&amp;via=SteamDB\" target=\"_blank\" rel=\"nofollow\">tweet this</a></li>\n",
      "<li><strong>5</strong> all-time peak <em class=\"timeago\" title=\"2016-09-27T19:12:05+00:00\">September 27, 2016 – 19:12:05 UTC</em></li>\n",
      "</ul>\n",
      "</div>\n",
      "<div class=\"span6\">\n",
      "<h2>SteamSpy <a href=\"https://steamspy.com/app/517480\"><span class=\"octicon octicon-link-external\"></span></a></h2>\n",
      "<p class=\"muted\">No SteamSpy data available for this app.</p>\n",
      "</div>\n",
      "</div>\n",
      "<div class=\"clearfix\"></div>\n",
      "<h2 id=\"chart-week\">Players in last 7 days</h2>\n",
      "<div class=\"chart\" id=\"js-chart-week\">\n",
      "<span class=\"loader\"></span>\n",
      "<p>Initializing graph of a week…</p>\n",
      "<p class=\"muted\">You must have JavaScript enabled.</p>\n",
      "</div>\n",
      "<h2 id=\"chart-year\">Players every day</h2>\n",
      "<div class=\"chart\" id=\"js-chart-year\">\n",
      "<span class=\"loader\"></span>\n",
      "<p>Initializing graph of a year…</p>\n",
      "<p class=\"muted\">You must have JavaScript enabled.</p>\n",
      "</div>\n",
      "</div>\n",
      "<div class=\"tab-pane\" id=\"subs\">\n",
      "<h2>Packages that include this app</h2>\n",
      "<table class=\"table table-bordered table-hover table-sortable\">\n",
      "<thead>\n",
      "<tr>\n",
      "<th style=\"width:70px\">SubID</th>\n",
      "<th>Name</th>\n",
      "<th class=\"span2\">Billing Type</th>\n",
      "<th class=\"span2 sort-default sort-down\">Last Updated</th>\n",
      "</tr>\n",
      "</thead>\n",
      "<tbody>\n",
      "<tr class=\"package\" data-subid=\"127080\">\n",
      "<td><a href=\"/sub/127080/\">127080</a></td>\n",
      "<td>\n",
      "Steam Sub 127080\n",
      "</td>\n",
      "<td>CD Key</td>\n",
      "<td data-sort=\"1473437052\" class=\"timeago\" title=\"2016-09-09T16:04:12+00:00\">September 9, 2016 – 16:04:12 UTC</td>\n",
      "</tr>\n",
      "<tr class=\"package\" data-subid=\"127081\">\n",
      "<td><a href=\"/sub/127081/\">127081</a></td>\n",
      "<td>\n",
      "Steam Sub 127081\n",
      "</td>\n",
      "<td>CD Key</td>\n",
      "<td data-sort=\"1473437052\" class=\"timeago\" title=\"2016-09-09T16:04:12+00:00\">September 9, 2016 – 16:04:12 UTC</td>\n",
      "</tr>\n",
      "<tr class=\"package\" data-subid=\"127082\">\n",
      "<td><a href=\"/sub/127082/\">127082</a></td>\n",
      "<td>\n",
      "<a class=\"pull-right tooltipped tooltipped-w\" aria-label=\"This package is in store\" href=\"//store.steampowered.com/sub/127082/?utm_source=SteamDB&amp;utm_medium=SteamDB&amp;utm_campaign=SteamDB%20App%20Page\">\n",
      "<span class=\"octicon octicon-globe\"></span>\n",
      "</a>\n",
      "VHSoverdose\n",
      "</td>\n",
      "<td>Store or CD Key</td>\n",
      "<td data-sort=\"1474641947\" class=\"timeago\" title=\"2016-09-23T14:45:47+00:00\">September 23, 2016 – 14:45:47 UTC</td>\n",
      "</tr>\n",
      "</tbody>\n",
      "</table>\n",
      "<a href=\"/app/517480/subsdebug/\">Cross reference packages and depots for this app</a>\n",
      "</div>\n",
      "<div class=\"tab-pane\" id=\"depots\">\n",
      "<h2>Depots</h2>\n",
      "<table class=\"table table-bordered table-hover table-sortable\">\n",
      "<thead>\n",
      "<tr>\n",
      "<th class=\"span1\">ID</th>\n",
      "<th>Name</th>\n",
      "<th style=\"width:100px\">Max Size</th>\n",
      "<th class=\"span1\">OS</th>\n",
      "<th class=\"span3\">Extra Info</th>\n",
      "</tr>\n",
      "</thead>\n",
      "<tbody>\n",
      "<tr>\n",
      "<td><a href=\"/depot/228986/\">228986</a></td>\n",
      "<td>VC 2015 Redist</td>\n",
      "<td data-sort=\"29759895\">28.38 MiB</td>\n",
      "<td class=\"nowrap\">\n",
      "<i class=\"icon icon-windows tooltipped tooltipped-n\" aria-label=\"Windows\"></i>\n",
      "</td>\n",
      "<td>\n",
      "Depot from <a href=\"/app/228980/\">228980</a>\n",
      "</td>\n",
      "</tr>\n",
      "<tr>\n",
      "<td><a href=\"/depot/228990/\">228990</a></td>\n",
      "<td>DirectX Jun 2010 Redist</td>\n",
      "<td data-sort=\"102931551\">98.16 MiB</td>\n",
      "<td class=\"nowrap\">\n",
      "<i class=\"icon icon-windows tooltipped tooltipped-n\" aria-label=\"Windows\"></i>\n",
      "</td>\n",
      "<td>\n",
      "Depot from <a href=\"/app/228980/\">228980</a>\n",
      "</td>\n",
      "</tr>\n",
      "<tr>\n",
      "<td><a href=\"/depot/229005/\">229005</a></td>\n",
      "<td>.NET 4.6 Redist</td>\n",
      "<td data-sort=\"65445663\">62.41 MiB</td>\n",
      "<td class=\"nowrap\">\n",
      "<i class=\"icon icon-windows tooltipped tooltipped-n\" aria-label=\"Windows\"></i>\n",
      "</td>\n",
      "<td>\n",
      "Depot from <a href=\"/app/228980/\">228980</a>\n",
      "</td>\n",
      "</tr>\n",
      "<tr>\n",
      "<td><a href=\"/depot/517481/\">517481</a></td>\n",
      "<td>VHSoverdose Content</td>\n",
      "<td data-sort=\"1153136017\">1.07 GiB</td>\n",
      "<td class=\"nowrap\">\n",
      "<i class=\"icon icon-windows tooltipped tooltipped-n\" aria-label=\"Windows\"></i>\n",
      "</td>\n",
      "<td>\n",
      "</td>\n",
      "</tr>\n",
      "</tbody>\n",
      "</table>\n",
      "<h3>Branches <a href=\"/faq/#branches\" class=\"muted\"><span class=\"octicon octicon-question\"></span></a></h3>\n",
      "<table class=\"table table-bordered table-hover table-sortable\">\n",
      "<thead>\n",
      "<tr>\n",
      "<th class=\"span2\">Name</th>\n",
      "<th>Description</th>\n",
      "<th class=\"span2 sort-default sort-down\">Build ID <a href=\"/faq/#build-id\" class=\"muted\"><span class=\"octicon octicon-question\"></span></a></th>\n",
      "<th class=\"span2\">Time Updated</th>\n",
      "</tr>\n",
      "</thead>\n",
      "<tbody>\n",
      "<tr class=\"owned\">\n",
      "<td>\n",
      "<a href=\"/app/517480/depots/?branch=public\">\n",
      "<b>public</b>\n",
      "</a>\n",
      "</td>\n",
      "<td></td>\n",
      "<td class=\"b\">\n",
      "<a href=\"/patchnotes/1346263/\">1346263</a>\n",
      "</td>\n",
      "<td data-sort=\"1474389090\" class=\"timeago\" title=\"2016-09-20T16:31:30+00:00\">September 20, 2016 – 16:31:30 UTC</td>\n",
      "</tr>\n",
      "</tbody>\n",
      "</table>\n",
      "<h3>Raw Information</h3>\n",
      "<pre class=\"pointer\">You have to be signed in to load raw depot data</pre>\n",
      "</div>\n",
      "<div class=\"tab-pane\" id=\"config\">\n",
      "<h2>Launch Options</h2>\n",
      "<table class=\"table table-bordered table-fixed\">\n",
      "<thead>\n",
      "<tr>\n",
      "<th>Description</th>\n",
      "<th>Executable</th>\n",
      "<th>Arguments</th>\n",
      "<th class=\"span1\">Type</th>\n",
      "<th class=\"span1\">OS</th>\n",
      "<th class=\"span3\">Extra Info</th>\n",
      "</tr>\n",
      "</thead>\n",
      "<tbody>\n",
      "<tr>\n",
      "<td><i class=\"muted\">None</i></td>\n",
      "<td>VHSoverdose.exe</td>\n",
      "<td></td>\n",
      "<td>Default</td>\n",
      "<td class=\"nowrap\">\n",
      "</td>\n",
      "<td>\n",
      "</td>\n",
      "</tr>\n",
      "</tbody>\n",
      "</table>\n",
      "<h2>Configuration</h2>\n",
      "<table class=\"table table-bordered table-fixed\">\n",
      "<thead>\n",
      "<tr>\n",
      "<th class=\"span3\">Key</th>\n",
      "<th>Value</th>\n",
      "</tr>\n",
      "</thead>\n",
      "<tbody>\n",
      "<tr>\n",
      "<td>contenttype</td>\n",
      "<td>3</td>\n",
      "</tr>\n",
      "<tr>\n",
      "<td>installdir</td>\n",
      "<td>VHSoverdose</td>\n",
      "</tr>\n",
      "<tr>\n",
      "<td>noupdatesafterinstall</td>\n",
      "<td>1</td>\n",
      "</tr>\n",
      "<tr>\n",
      "<td>launch</td>\n",
      "<td>See section above</td>\n",
      "</tr>\n",
      "</tbody>\n",
      "</table>\n",
      "</div>\n",
      "<div class=\"tab-pane\" id=\"history\">\n",
      "<h2>History</h2>\n",
      "<div class=\"panel panel-history\" data-changeid=\"3175267\">\n",
      "<div class=\"panel-heading\">\n",
      "<a class=\"muted timeago pull-right tooltipped tooltipped-w\" aria-label=\"Permanent link\" title=\"2017-07-11T02:18:33+00:00\" href=\"/app/517480/history/?changeid=3175267\">July 11, 2017 – 02:18:33 UTC</a>\n",
      "Change <a href=\"/changelist/3175267/\">#3175267</a>\n",
      "</div>\n",
      "<ul class=\"app-history\">\n",
      "<li>\n",
      "<span class=\"octicon octicon-diff-modified\"></span> Changed <i>Depots</i> <ul class=\"app-history-json\"><li><span class=\"octicon octicon-diff-modified\"></span> <a class=\"tooltipped tooltipped-ne\" aria-label=\".NET 4.6 Redist\" href=\"/depot/229005/\">229005</a><i>/maxsize:</i> <del>65445665</del> <i class=\"muted\">(62.41 MiB)</i> &rsaquo; <ins>65445663</ins> <i class=\"muted\">(62.41 MiB)</i> <i class=\"muted\">(-2 B)</i></li><li><span class=\"octicon octicon-diff-modified\"></span> <a class=\"tooltipped tooltipped-ne\" aria-label=\".NET 4.6 Redist\" href=\"/depot/229005/\">229005</a><i>/manifests/public:</i> <del>819976315130619325</del> &rsaquo; <ins>6273193758943495710</ins></li></ul>\n",
      "</li>\n",
      "<li>\n",
      "<span class=\"octicon octicon-git-commit\"></span> Changed <i>changenumber</i> &ndash; <a href=\"/changelist/3106316/\">3106316</a> &rsaquo; <a href=\"/changelist/3175267/\" class=\"b changenumber\" data-time=\"1499739513\">3175267</a> <a href=\"/faq/#changenumber\" class=\"muted tooltipped tooltipped-e\" aria-label=\"Changenumber increments globally\"><span class=\"octicon octicon-question\"></span></a>\n",
      "</li>\n",
      "</ul>\n",
      "</div>\n",
      "<div class=\"panel panel-history\" data-changeid=\"3106316\">\n",
      "<div class=\"panel-heading\">\n",
      "<a class=\"muted timeago pull-right tooltipped tooltipped-w\" aria-label=\"Permanent link\" title=\"2017-06-21T18:20:35+00:00\" href=\"/app/517480/history/?changeid=3106316\">June 21, 2017 – 18:20:35 UTC</a>\n",
      "Change <a href=\"/changelist/3106316/\">#3106316</a>\n",
      "</div>\n",
      "<ul class=\"app-history\">\n",
      "<li>\n",
      "<span class=\"octicon octicon-diff-added\"></span> Added <i>store_tags</i> <ul class=\"app-history-json\"><li class=\"added\"><span class=\"octicon octicon-diff-added\"></span> <i>0:</i> <b>19</b></li><li class=\"added\"><span class=\"octicon octicon-diff-added\"></span> <i>1:</i> <b>492</b></li></ul>\n",
      "</li>\n",
      "<li>\n",
      "<span class=\"octicon octicon-git-commit\"></span> Changed <i>changenumber</i> &ndash; <a href=\"/changelist/2768190/\">2768190</a> &rsaquo; <a href=\"/changelist/3106316/\" class=\"b changenumber\" data-time=\"1498069235\">3106316</a> <a href=\"/faq/#changenumber\" class=\"muted tooltipped tooltipped-e\" aria-label=\"Changenumber increments globally\"><span class=\"octicon octicon-question\"></span></a>\n",
      "</li>\n",
      "</ul>\n",
      "</div>\n",
      "<div class=\"panel panel-history\" data-changeid=\"2768190\">\n",
      "<div class=\"panel-heading\">\n",
      "<a class=\"muted timeago pull-right tooltipped tooltipped-w\" aria-label=\"Permanent link\" title=\"2017-03-08T00:47:05+00:00\" href=\"/app/517480/history/?changeid=2768190\">March 8, 2017 – 00:47:05 UTC</a>\n",
      "Change <a href=\"/changelist/2768190/\">#2768190</a>\n",
      "</div>\n",
      "<ul class=\"app-history\">\n",
      "<li>\n",
      "<span class=\"octicon octicon-diff-modified\"></span> Changed <i>Depots</i> <ul class=\"app-history-json\"><li><span class=\"octicon octicon-diff-modified\"></span> <a class=\"tooltipped tooltipped-ne\" aria-label=\"VC 2015 Redist\" href=\"/depot/228986/\">228986</a><i>/maxsize:</i> <del>29762193</del> <i class=\"muted\">(28.38 MiB)</i> &rsaquo; <ins>29759895</ins> <i class=\"muted\">(28.38 MiB)</i> <i class=\"muted\">(-2.24 KiB)</i></li><li><span class=\"octicon octicon-diff-modified\"></span> <a class=\"tooltipped tooltipped-ne\" aria-label=\"VC 2015 Redist\" href=\"/depot/228986/\">228986</a><i>/manifests/public:</i> <del>2004548077460801122</del> &rsaquo; <ins>1003373983685403880</ins></li></ul>\n",
      "</li>\n",
      "<li>\n",
      "<span class=\"octicon octicon-git-commit\"></span> Changed <i>changenumber</i> &ndash; <a href=\"/changelist/2727658/\">2727658</a> &rsaquo; <a href=\"/changelist/2768190/\" class=\"b changenumber\" data-time=\"1488934025\">2768190</a> <a href=\"/faq/#changenumber\" class=\"muted tooltipped tooltipped-e\" aria-label=\"Changenumber increments globally\"><span class=\"octicon octicon-question\"></span></a>\n",
      "</li>\n",
      "</ul>\n",
      "</div>\n",
      "<div class=\"panel panel-history\" data-changeid=\"2727658\">\n",
      "<div class=\"panel-heading\">\n",
      "<a class=\"muted timeago pull-right tooltipped tooltipped-w\" aria-label=\"Permanent link\" title=\"2017-02-22T00:44:41+00:00\" href=\"/app/517480/history/?changeid=2727658\">February 22, 2017 – 00:44:41 UTC</a>\n",
      "Change <a href=\"/changelist/2727658/\">#2727658</a>\n",
      "</div>\n",
      "<ul class=\"app-history\">\n",
      "<li>\n",
      "<span class=\"octicon octicon-diff-modified\"></span> Changed <i>Depots</i> <ul class=\"app-history-json\"><li><span class=\"octicon octicon-diff-modified\"></span> <a class=\"tooltipped tooltipped-ne\" aria-label=\"VC 2015 Redist\" href=\"/depot/228986/\">228986</a><i>/maxsize:</i> <del>29748833</del> <i class=\"muted\">(28.37 MiB)</i> &rsaquo; <ins>29762193</ins> <i class=\"muted\">(28.38 MiB)</i> <i class=\"muted\">(+13.05 KiB)</i></li><li><span class=\"octicon octicon-diff-modified\"></span> <a class=\"tooltipped tooltipped-ne\" aria-label=\"VC 2015 Redist\" href=\"/depot/228986/\">228986</a><i>/manifests/public:</i> <del>1499878012993136397</del> &rsaquo; <ins>2004548077460801122</ins></li></ul>\n",
      "</li>\n",
      "<li>\n",
      "<span class=\"octicon octicon-git-commit\"></span> Changed <i>changenumber</i> &ndash; <a href=\"/changelist/2647267/\">2647267</a> &rsaquo; <a href=\"/changelist/2727658/\" class=\"b changenumber\" data-time=\"1487724281\">2727658</a> <a href=\"/faq/#changenumber\" class=\"muted tooltipped tooltipped-e\" aria-label=\"Changenumber increments globally\"><span class=\"octicon octicon-question\"></span></a>\n",
      "</li>\n",
      "</ul>\n",
      "</div>\n",
      "<div class=\"panel panel-history\" data-changeid=\"2647267\">\n",
      "<div class=\"panel-heading\">\n",
      "<a class=\"muted timeago pull-right tooltipped tooltipped-w\" aria-label=\"Permanent link\" title=\"2017-01-27T00:41:06+00:00\" href=\"/app/517480/history/?changeid=2647267\">January 27, 2017 – 00:41:06 UTC</a>\n",
      "Change <a href=\"/changelist/2647267/\">#2647267</a>\n",
      "</div>\n",
      "<ul class=\"app-history\">\n",
      "<li>\n",
      "<span class=\"octicon octicon-diff-modified\"></span> Changed <i>Depots</i> <ul class=\"app-history-json\"><li class=\"added\"><span class=\"octicon octicon-diff-added\"></span> <a class=\"tooltipped tooltipped-ne\" aria-label=\"VC 2015 Redist\" href=\"/depot/228986/\">228986</a><i>/config/oslist:</i> <b>windows</b></li></ul>\n",
      "</li>\n",
      "<li>\n",
      "<span class=\"octicon octicon-git-commit\"></span> Changed <i>changenumber</i> &ndash; <a href=\"/changelist/2280707/\">2280707</a> &rsaquo; <a href=\"/changelist/2647267/\" class=\"b changenumber\" data-time=\"1485477666\">2647267</a> <a href=\"/faq/#changenumber\" class=\"muted tooltipped tooltipped-e\" aria-label=\"Changenumber increments globally\"><span class=\"octicon octicon-question\"></span></a>\n",
      "</li>\n",
      "</ul>\n",
      "</div>\n",
      "<div class=\"panel panel-history\" data-changeid=\"2280707\">\n",
      "<div class=\"panel-heading\">\n",
      "<a class=\"muted timeago pull-right tooltipped tooltipped-w\" aria-label=\"Permanent link\" title=\"2016-09-20T16:31:33+00:00\" href=\"/app/517480/history/?changeid=2280707\">September 20, 2016 – 16:31:33 UTC</a>\n",
      "Change <a href=\"/changelist/2280707/\">#2280707</a>\n",
      "</div>\n",
      "<ul class=\"app-history\">\n",
      "<li>\n",
      "<span class=\"octicon octicon-diff-modified\"></span> Changed <i>Depots</i> <ul class=\"app-history-json\"><li><span class=\"octicon octicon-diff-modified\"></span> <i>branches/public/timeupdated:</i> <del>1474377033</del> <i class=\"muted\">(September 20, 2016 – 13:10:33 UTC)</i> &rsaquo; <ins>1474389090</ins> <i class=\"muted\">(September 20, 2016 – 16:31:30 UTC)</i> <i class=\"tooltipped tooltipped-n muted\" aria-label=\"Difference in seconds between SteamDB update and Valve's\">(+3)</i></li><li><span class=\"octicon octicon-diff-modified\"></span> <i>branches/public/buildid:</i> <del>1345857</del> &rsaquo; <ins>1346263</ins></li><li><span class=\"octicon octicon-diff-modified\"></span> <a class=\"tooltipped tooltipped-ne\" aria-label=\"VHSoverdose Content\" href=\"/depot/517481/\">517481</a><i>/maxsize:</i> <del>1154003656</del> <i class=\"muted\">(1.07 GiB)</i> &rsaquo; <ins>1153136017</ins> <i class=\"muted\">(1.07 GiB)</i> <i class=\"muted\">(-847.30 KiB)</i></li><li><span class=\"octicon octicon-diff-modified\"></span> <a class=\"tooltipped tooltipped-ne\" aria-label=\"VHSoverdose Content\" href=\"/depot/517481/\">517481</a><i>/manifests/public:</i> <del>2607954359046987858</del> &rsaquo; <ins>2119852068327953677</ins></li></ul>\n",
      "</li>\n",
      "<li>\n",
      "<span class=\"octicon octicon-git-commit\"></span> Changed <i>changenumber</i> &ndash; <a href=\"/changelist/2280136/\">2280136</a> &rsaquo; <a href=\"/changelist/2280707/\" class=\"b changenumber\" data-time=\"1474389092\">2280707</a> <a href=\"/faq/#changenumber\" class=\"muted tooltipped tooltipped-e\" aria-label=\"Changenumber increments globally\"><span class=\"octicon octicon-question\"></span></a>\n",
      "</li>\n",
      "</ul>\n",
      "</div>\n",
      "<div class=\"panel panel-history\" data-changeid=\"2280136\">\n",
      "<div class=\"panel-heading\">\n",
      "<a class=\"muted timeago pull-right tooltipped tooltipped-w\" aria-label=\"Permanent link\" title=\"2016-09-20T13:45:05+00:00\" href=\"/app/517480/history/?changeid=2280136\">September 20, 2016 – 13:45:05 UTC</a>\n",
      "Change <a href=\"/changelist/2280136/\">#2280136</a>\n",
      "</div>\n",
      "<ul class=\"app-history\">\n",
      "<li>\n",
      "<span class=\"octicon octicon-diff-removed\"></span> Removed <i><span title=\"exclude from game library sharing\" style=\"border-bottom:1px dotted #000\">exfgls</span></i> &ndash; <b>1</b>\n",
      "</li>\n",
      "<li>\n",
      "<span class=\"octicon octicon-diff-added\"></span> Added <i>Depots</i> <ul class=\"app-history-json\"><li class=\"added\"><span class=\"octicon octicon-diff-added\"></span> <i>branches/public/timeupdated:</i> <b>1474377033</b> <i class=\"muted\">(September 20, 2016 – 13:10:33 UTC)</i> <i class=\"tooltipped tooltipped-n muted\" aria-label=\"Difference in seconds between SteamDB update and Valve's\">(+2071)</i></li><li class=\"added\"><span class=\"octicon octicon-diff-added\"></span> <i>branches/public/buildid:</i> <b>1345857</b></li><li class=\"added\"><span class=\"octicon octicon-diff-added\"></span> <a class=\"tooltipped tooltipped-ne\" aria-label=\"VC 2015 Redist\" href=\"/depot/228986/\">228986</a><i>/name:</i> <b>VC 2015 Redist</b></li><li class=\"added\"><span class=\"octicon octicon-diff-added\"></span> <a class=\"tooltipped tooltipped-ne\" aria-label=\"DirectX Jun 2010 Redist\" href=\"/depot/228990/\">228990</a><i>/name:</i> <b>DirectX Jun 2010 Redist</b></li><li class=\"added\"><span class=\"octicon octicon-diff-added\"></span> <a class=\"tooltipped tooltipped-ne\" aria-label=\".NET 4.6 Redist\" href=\"/depot/229005/\">229005</a><i>/name:</i> <b>.NET 4.6 Redist</b></li><li class=\"added\"><span class=\"octicon octicon-diff-added\"></span> <a class=\"tooltipped tooltipped-ne\" aria-label=\"VHSoverdose Content\" href=\"/depot/517481/\">517481</a><i>/name:</i> <b>VHSoverdose Content</b></li><li class=\"added\"><span class=\"octicon octicon-diff-added\"></span> <a class=\"tooltipped tooltipped-ne\" aria-label=\"VC 2015 Redist\" href=\"/depot/228986/\">228986</a><i>/maxsize:</i> <b>29748833</b> <i>(28.37 MiB)</i></li><li class=\"added\"><span class=\"octicon octicon-diff-added\"></span> <a class=\"tooltipped tooltipped-ne\" aria-label=\"DirectX Jun 2010 Redist\" href=\"/depot/228990/\">228990</a><i>/maxsize:</i> <b>102931551</b> <i>(98.16 MiB)</i></li><li class=\"added\"><span class=\"octicon octicon-diff-added\"></span> <a class=\"tooltipped tooltipped-ne\" aria-label=\".NET 4.6 Redist\" href=\"/depot/229005/\">229005</a><i>/maxsize:</i> <b>65445665</b> <i>(62.41 MiB)</i></li><li class=\"added\"><span class=\"octicon octicon-diff-added\"></span> <a class=\"tooltipped tooltipped-ne\" aria-label=\"VHSoverdose Content\" href=\"/depot/517481/\">517481</a><i>/maxsize:</i> <b>1154003656</b> <i>(1.07 GiB)</i></li><li class=\"added\"><span class=\"octicon octicon-diff-added\"></span> <a class=\"tooltipped tooltipped-ne\" aria-label=\"VC 2015 Redist\" href=\"/depot/228986/\">228986</a><i>/manifests/public:</i> <b>1499878012993136397</b></li><li class=\"added\"><span class=\"octicon octicon-diff-added\"></span> <a class=\"tooltipped tooltipped-ne\" aria-label=\"DirectX Jun 2010 Redist\" href=\"/depot/228990/\">228990</a><i>/manifests/public:</i> <b>1829726630299308803</b></li><li class=\"added\"><span class=\"octicon octicon-diff-added\"></span> <a class=\"tooltipped tooltipped-ne\" aria-label=\".NET 4.6 Redist\" href=\"/depot/229005/\">229005</a><i>/manifests/public:</i> <b>819976315130619325</b></li><li class=\"added\"><span class=\"octicon octicon-diff-added\"></span> <a class=\"tooltipped tooltipped-ne\" aria-label=\"VHSoverdose Content\" href=\"/depot/517481/\">517481</a><i>/manifests/public:</i> <b>2607954359046987858</b></li><li class=\"added\"><span class=\"octicon octicon-diff-added\"></span> <a class=\"tooltipped tooltipped-ne\" aria-label=\"VC 2015 Redist\" href=\"/depot/228986/\">228986</a><i>/depotfromapp:</i> <b>228980</b></li><li class=\"added\"><span class=\"octicon octicon-diff-added\"></span> <a class=\"tooltipped tooltipped-ne\" aria-label=\"DirectX Jun 2010 Redist\" href=\"/depot/228990/\">228990</a><i>/depotfromapp:</i> <b>228980</b></li><li class=\"added\"><span class=\"octicon octicon-diff-added\"></span> <a class=\"tooltipped tooltipped-ne\" aria-label=\".NET 4.6 Redist\" href=\"/depot/229005/\">229005</a><i>/depotfromapp:</i> <b>228980</b></li><li class=\"added\"><span class=\"octicon octicon-diff-added\"></span> <a class=\"tooltipped tooltipped-ne\" aria-label=\"DirectX Jun 2010 Redist\" href=\"/depot/228990/\">228990</a><i>/config/oslist:</i> <b>windows</b></li><li class=\"added\"><span class=\"octicon octicon-diff-added\"></span> <a class=\"tooltipped tooltipped-ne\" aria-label=\".NET 4.6 Redist\" href=\"/depot/229005/\">229005</a><i>/config/oslist:</i> <b>windows</b></li><li class=\"added\"><span class=\"octicon octicon-diff-added\"></span> <a class=\"tooltipped tooltipped-ne\" aria-label=\"VHSoverdose Content\" href=\"/depot/517481/\">517481</a><i>/config/oslist:</i> <b>windows</b></li></ul>\n",
      "</li>\n",
      "<li>\n",
      "<span class=\"octicon octicon-diff-added\"></span> Added <i>App Config</i> <ul class=\"app-history-json\"><li class=\"added\"><span class=\"octicon octicon-diff-added\"></span> <i>contenttype:</i> <b>3</b></li><li class=\"added\"><span class=\"octicon octicon-diff-added\"></span> <i>installdir:</i> <b>VHSoverdose</b></li><li class=\"added\"><span class=\"octicon octicon-diff-added\"></span> <i>launch/0/executable:</i> <b>VHSoverdose.exe</b></li><li class=\"added\"><span class=\"octicon octicon-diff-added\"></span> <i>launch/0/type:</i> <b>default</b></li><li class=\"added\"><span class=\"octicon octicon-diff-added\"></span> <i>noupdatesafterinstall:</i> <b>1</b></li></ul>\n",
      "</li>\n",
      "<li>\n",
      "<span class=\"octicon octicon-diff-added\"></span> Added <i>publisher</i> &ndash; <b>CallThePolices</b>\n",
      "</li>\n",
      "<li>\n",
      "<span class=\"octicon octicon-diff-added\"></span> Added <i>developer</i> &ndash; <b>CallThePolices</b>\n",
      "</li>\n",
      "<li>\n",
      "<span class=\"octicon octicon-diff-modified\"></span> Changed <i>releasestate</i> &ndash; <span class=\"diff\"><del>prerelease</del> &rsaquo; <ins>released</ins></span>\n",
      "</li>\n",
      "<li>\n",
      "<span class=\"octicon octicon-git-commit\"></span> Changed <i>changenumber</i> &ndash; <a href=\"/changelist/2280059/\">2280059</a> &rsaquo; <a href=\"/changelist/2280136/\" class=\"b changenumber\" data-time=\"1474379103\">2280136</a> <a href=\"/faq/#changenumber\" class=\"muted tooltipped tooltipped-e\" aria-label=\"Changenumber increments globally\"><span class=\"octicon octicon-question\"></span></a>\n",
      "</li>\n",
      "</ul>\n",
      "</div>\n",
      "<div class=\"panel panel-history\" data-changeid=\"U:3636000\">\n",
      "<div class=\"panel-heading\">\n",
      "<a class=\"muted timeago pull-right tooltipped tooltipped-w\" aria-label=\"Permanent link\" title=\"2016-09-20T13:20:13+00:00\" href=\"/app/517480/history/?changeid=U:3636000\">September 20, 2016 – 13:20:13 UTC</a>\n",
      "Change <span class=\"muted\">#U:3636000</span>\n",
      "</div>\n",
      "<ul class=\"app-history\">\n",
      "<li>\n",
      "<span class=\"octicon octicon-diff-added\"></span> Added <i>Release Date</i> &ndash; <b>September 20, 2016</b>\n",
      "</li>\n",
      "</ul>\n",
      "</div>\n",
      "<div class=\"panel panel-history\" data-changeid=\"2280059\">\n",
      "<div class=\"panel-heading\">\n",
      "<a class=\"muted timeago pull-right tooltipped tooltipped-w\" aria-label=\"Permanent link\" title=\"2016-09-20T13:10:36+00:00\" href=\"/app/517480/history/?changeid=2280059\">September 20, 2016 – 13:10:36 UTC</a>\n",
      "Change <a href=\"/changelist/2280059/\">#2280059</a>\n",
      "</div>\n",
      "<ul class=\"app-history\">\n",
      "<li>\n",
      "<span class=\"octicon octicon-git-commit\"></span> Changed <i>changenumber</i> &ndash; <a href=\"/changelist/2278382/\">2278382</a> &rsaquo; <a href=\"/changelist/2280059/\" class=\"b changenumber\" data-time=\"1474377036\">2280059</a> <a href=\"/faq/#changenumber\" class=\"muted tooltipped tooltipped-e\" aria-label=\"Changenumber increments globally\"><span class=\"octicon octicon-question\"></span></a>\n",
      "</li>\n",
      "</ul>\n",
      "</div>\n",
      "<div class=\"panel panel-history\" data-changeid=\"U:3632622\">\n",
      "<div class=\"panel-heading\">\n",
      "<a class=\"muted timeago pull-right tooltipped tooltipped-w\" aria-label=\"Permanent link\" title=\"2016-09-19T22:20:10+00:00\" href=\"/app/517480/history/?changeid=U:3632622\">September 19, 2016 – 22:20:10 UTC</a>\n",
      "Change <span class=\"muted\">#U:3632622</span>\n",
      "</div>\n",
      "<ul class=\"app-history\">\n",
      "<li>\n",
      "<span class=\"octicon octicon-diff-modified\"></span> Changed <i>Categories</i> &ndash; <span class=\"diff\"><del>Single-player, Steam Trading Cards</del> &rsaquo; <ins>Single-player, Full controller support, Steam Trading Cards</ins></span>\n",
      "</li>\n",
      "</ul>\n",
      "</div>\n",
      "<div class=\"panel panel-history\" data-changeid=\"2278382\">\n",
      "<div class=\"panel-heading\">\n",
      "<a class=\"muted timeago pull-right tooltipped tooltipped-w\" aria-label=\"Permanent link\" title=\"2016-09-19T22:13:58+00:00\" href=\"/app/517480/history/?changeid=2278382\">September 19, 2016 – 22:13:58 UTC</a>\n",
      "Change <a href=\"/changelist/2278382/\">#2278382</a>\n",
      "</div>\n",
      "<ul class=\"app-history\">\n",
      "<li>\n",
      "<span class=\"octicon octicon-diff-added\"></span> Added <i>controller_support</i> &ndash; <b>full</b>\n",
      "</li>\n",
      "<li>\n",
      "<span class=\"octicon octicon-git-commit\"></span> Changed <i>changenumber</i> &ndash; <a href=\"/changelist/2278167/\">2278167</a> &rsaquo; <a href=\"/changelist/2278382/\" class=\"b changenumber\" data-time=\"1474323238\">2278382</a> <a href=\"/faq/#changenumber\" class=\"muted tooltipped tooltipped-e\" aria-label=\"Changenumber increments globally\"><span class=\"octicon octicon-question\"></span></a>\n",
      "</li>\n",
      "</ul>\n",
      "</div>\n",
      "<div class=\"panel panel-history\" data-changeid=\"U:3632161\">\n",
      "<div class=\"panel-heading\">\n",
      "<a class=\"muted timeago pull-right tooltipped tooltipped-w\" aria-label=\"Permanent link\" title=\"2016-09-19T20:30:02+00:00\" href=\"/app/517480/history/?changeid=U:3632161\">September 19, 2016 – 20:30:02 UTC</a>\n",
      "Change <span class=\"muted\">#U:3632161</span>\n",
      "</div>\n",
      "<ul class=\"app-history\">\n",
      "<li>\n",
      "<span class=\"octicon octicon-diff-removed\"></span> Removed <i>Release Date</i> &ndash; <b>September 19, 2016</b>\n",
      "</li>\n",
      "</ul>\n",
      "</div>\n",
      "<div class=\"panel panel-history\" data-changeid=\"U:3632160\">\n",
      "<div class=\"panel-heading\">\n",
      "<a class=\"muted timeago pull-right tooltipped tooltipped-w\" aria-label=\"Permanent link\" title=\"2016-09-19T20:30:02+00:00\" href=\"/app/517480/history/?changeid=U:3632160\">September 19, 2016 – 20:30:02 UTC</a>\n",
      "Change <span class=\"muted\">#U:3632160</span>\n",
      "</div>\n",
      "<ul class=\"app-history\">\n",
      "<li>\n",
      "<span class=\"octicon octicon-diff-modified\"></span> Changed <i>Categories</i> &ndash; <span class=\"diff\"><del>Single-player, Full controller support, Steam Trading Cards</del> &rsaquo; <ins>Single-player, Steam Trading Cards</ins></span>\n",
      "</li>\n",
      "</ul>\n",
      "</div>\n",
      "<div class=\"panel panel-history\" data-changeid=\"2278167\">\n",
      "<div class=\"panel-heading\">\n",
      "<a class=\"muted timeago pull-right tooltipped tooltipped-w\" aria-label=\"Permanent link\" title=\"2016-09-19T20:29:55+00:00\" href=\"/app/517480/history/?changeid=2278167\">September 19, 2016 – 20:29:55 UTC</a>\n",
      "Change <a href=\"/changelist/2278167/\">#2278167</a>\n",
      "</div>\n",
      "<ul class=\"app-history\">\n",
      "<li>\n",
      "<span class=\"octicon octicon-diff-removed\"></span> Removed <i>controller_support</i> &ndash; <b>full</b>\n",
      "</li>\n",
      "<li>\n",
      "<span class=\"octicon octicon-git-commit\"></span> Changed <i>changenumber</i> &ndash; <a href=\"/changelist/2276950/\">2276950</a> &rsaquo; <a href=\"/changelist/2278167/\" class=\"b changenumber\" data-time=\"1474316994\">2278167</a> <a href=\"/faq/#changenumber\" class=\"muted tooltipped tooltipped-e\" aria-label=\"Changenumber increments globally\"><span class=\"octicon octicon-question\"></span></a>\n",
      "</li>\n",
      "</ul>\n",
      "</div>\n",
      "<div class=\"panel panel-history\" data-changeid=\"2276950\">\n",
      "<div class=\"panel-heading\">\n",
      "<a class=\"muted timeago pull-right tooltipped tooltipped-w\" aria-label=\"Permanent link\" title=\"2016-09-19T16:17:19+00:00\" href=\"/app/517480/history/?changeid=2276950\">September 19, 2016 – 16:17:19 UTC</a>\n",
      "Change <a href=\"/changelist/2276950/\">#2276950</a>\n",
      "</div>\n",
      "<ul class=\"app-history\">\n",
      "<li>\n",
      "<span class=\"octicon octicon-git-commit\"></span> Changed <i>changenumber</i> &ndash; <a href=\"/changelist/2276874/\">2276874</a> &rsaquo; <a href=\"/changelist/2276950/\" class=\"b changenumber\" data-time=\"1474301839\">2276950</a> <a href=\"/faq/#changenumber\" class=\"muted tooltipped tooltipped-e\" aria-label=\"Changenumber increments globally\"><span class=\"octicon octicon-question\"></span></a>\n",
      "</li>\n",
      "</ul>\n",
      "</div>\n",
      "<div class=\"panel panel-history\" data-changeid=\"2276874\">\n",
      "<div class=\"panel-heading\">\n",
      "<a class=\"muted timeago pull-right tooltipped tooltipped-w\" aria-label=\"Permanent link\" title=\"2016-09-19T15:57:56+00:00\" href=\"/app/517480/history/?changeid=2276874\">September 19, 2016 – 15:57:56 UTC</a>\n",
      "Change <a href=\"/changelist/2276874/\">#2276874</a>\n",
      "</div>\n",
      "<ul class=\"app-history\">\n",
      "<li>\n",
      "<span class=\"octicon octicon-git-commit\"></span> Changed <i>changenumber</i> &ndash; <a href=\"/changelist/2276741/\">2276741</a> &rsaquo; <a href=\"/changelist/2276874/\" class=\"b changenumber\" data-time=\"1474300676\">2276874</a> <a href=\"/faq/#changenumber\" class=\"muted tooltipped tooltipped-e\" aria-label=\"Changenumber increments globally\"><span class=\"octicon octicon-question\"></span></a>\n",
      "</li>\n",
      "</ul>\n",
      "</div>\n",
      "<div class=\"panel panel-history\" data-changeid=\"2276741\">\n",
      "<div class=\"panel-heading\">\n",
      "<a class=\"muted timeago pull-right tooltipped tooltipped-w\" aria-label=\"Permanent link\" title=\"2016-09-19T15:03:10+00:00\" href=\"/app/517480/history/?changeid=2276741\">September 19, 2016 – 15:03:10 UTC</a>\n",
      "Change <a href=\"/changelist/2276741/\">#2276741</a>\n",
      "</div>\n",
      "<ul class=\"app-history\">\n",
      "<li>\n",
      "<span class=\"octicon octicon-git-commit\"></span> Changed <i>changenumber</i> &ndash; <a href=\"/changelist/2276666/\">2276666</a> &rsaquo; <a href=\"/changelist/2276741/\" class=\"b changenumber\" data-time=\"1474297390\">2276741</a> <a href=\"/faq/#changenumber\" class=\"muted tooltipped tooltipped-e\" aria-label=\"Changenumber increments globally\"><span class=\"octicon octicon-question\"></span></a>\n",
      "</li>\n",
      "</ul>\n",
      "</div>\n",
      "<div class=\"panel panel-history\" data-changeid=\"2276666\">\n",
      "<div class=\"panel-heading\">\n",
      "<a class=\"muted timeago pull-right tooltipped tooltipped-w\" aria-label=\"Permanent link\" title=\"2016-09-19T14:30:42+00:00\" href=\"/app/517480/history/?changeid=2276666\">September 19, 2016 – 14:30:42 UTC</a>\n",
      "Change <a href=\"/changelist/2276666/\">#2276666</a>\n",
      "</div>\n",
      "<ul class=\"app-history\">\n",
      "<li>\n",
      "<span class=\"octicon octicon-git-commit\"></span> Changed <i>changenumber</i> &ndash; <a href=\"/changelist/2276506/\">2276506</a> &rsaquo; <a href=\"/changelist/2276666/\" class=\"b changenumber\" data-time=\"1474295442\">2276666</a> <a href=\"/faq/#changenumber\" class=\"muted tooltipped tooltipped-e\" aria-label=\"Changenumber increments globally\"><span class=\"octicon octicon-question\"></span></a>\n",
      "</li>\n",
      "</ul>\n",
      "</div>\n",
      "<div class=\"panel panel-history\" data-changeid=\"2276506\">\n",
      "<div class=\"panel-heading\">\n",
      "<a class=\"muted timeago pull-right tooltipped tooltipped-w\" aria-label=\"Permanent link\" title=\"2016-09-19T13:56:15+00:00\" href=\"/app/517480/history/?changeid=2276506\">September 19, 2016 – 13:56:15 UTC</a>\n",
      "Change <a href=\"/changelist/2276506/\">#2276506</a>\n",
      "</div>\n",
      "<ul class=\"app-history\">\n",
      "<li>\n",
      "<span class=\"octicon octicon-git-commit\"></span> Changed <i>changenumber</i> &ndash; <a href=\"/changelist/2275485/\">2275485</a> &rsaquo; <a href=\"/changelist/2276506/\" class=\"b changenumber\" data-time=\"1474293375\">2276506</a> <a href=\"/faq/#changenumber\" class=\"muted tooltipped tooltipped-e\" aria-label=\"Changenumber increments globally\"><span class=\"octicon octicon-question\"></span></a>\n",
      "</li>\n",
      "</ul>\n",
      "</div>\n",
      "<div class=\"panel panel-history\" data-changeid=\"2275485\">\n",
      "<div class=\"panel-heading\">\n",
      "<a class=\"muted timeago pull-right tooltipped tooltipped-w\" aria-label=\"Permanent link\" title=\"2016-09-19T02:31:27+00:00\" href=\"/app/517480/history/?changeid=2275485\">September 19, 2016 – 02:31:27 UTC</a>\n",
      "Change <a href=\"/changelist/2275485/\">#2275485</a>\n",
      "</div>\n",
      "<ul class=\"app-history\">\n",
      "<li>\n",
      "<span class=\"octicon octicon-diff-modified\"></span> Changed <i>oslist</i> &ndash; <del>windows,macos,linux</del> &rsaquo; <ins>windows</ins>\n",
      "</li>\n",
      "<li>\n",
      "<span class=\"octicon octicon-git-commit\"></span> Changed <i>changenumber</i> &ndash; <a href=\"/changelist/2275484/\">2275484</a> &rsaquo; <a href=\"/changelist/2275485/\" class=\"b changenumber\" data-time=\"1474252287\">2275485</a> <a href=\"/faq/#changenumber\" class=\"muted tooltipped tooltipped-e\" aria-label=\"Changenumber increments globally\"><span class=\"octicon octicon-question\"></span></a>\n",
      "</li>\n",
      "</ul>\n",
      "</div>\n",
      "<div class=\"panel panel-history\" data-changeid=\"2275484\">\n",
      "<div class=\"panel-heading\">\n",
      "<a class=\"muted timeago pull-right tooltipped tooltipped-w\" aria-label=\"Permanent link\" title=\"2016-09-19T02:31:10+00:00\" href=\"/app/517480/history/?changeid=2275484\">September 19, 2016 – 02:31:10 UTC</a>\n",
      "Change <a href=\"/changelist/2275484/\">#2275484</a>\n",
      "</div>\n",
      "<ul class=\"app-history\">\n",
      "<li>\n",
      "<span class=\"octicon octicon-git-commit\"></span> Changed <i>changenumber</i> &ndash; <a href=\"/changelist/2275448/\">2275448</a> &rsaquo; <a href=\"/changelist/2275484/\" class=\"b changenumber\" data-time=\"1474252270\">2275484</a> <a href=\"/faq/#changenumber\" class=\"muted tooltipped tooltipped-e\" aria-label=\"Changenumber increments globally\"><span class=\"octicon octicon-question\"></span></a>\n",
      "</li>\n",
      "</ul>\n",
      "</div>\n",
      "<div class=\"panel panel-history\" data-changeid=\"2275448\">\n",
      "<div class=\"panel-heading\">\n",
      "<a class=\"muted timeago pull-right tooltipped tooltipped-w\" aria-label=\"Permanent link\" title=\"2016-09-19T01:45:41+00:00\" href=\"/app/517480/history/?changeid=2275448\">September 19, 2016 – 01:45:41 UTC</a>\n",
      "Change <a href=\"/changelist/2275448/\">#2275448</a>\n",
      "</div>\n",
      "<ul class=\"app-history\">\n",
      "<li>\n",
      "<span class=\"octicon octicon-git-commit\"></span> Changed <i>changenumber</i> &ndash; <a href=\"/changelist/2275282/\">2275282</a> &rsaquo; <a href=\"/changelist/2275448/\" class=\"b changenumber\" data-time=\"1474249541\">2275448</a> <a href=\"/faq/#changenumber\" class=\"muted tooltipped tooltipped-e\" aria-label=\"Changenumber increments globally\"><span class=\"octicon octicon-question\"></span></a>\n",
      "</li>\n",
      "</ul>\n",
      "</div>\n",
      "<div class=\"panel panel-history\" data-changeid=\"2275282\">\n",
      "<div class=\"panel-heading\">\n",
      "<a class=\"muted timeago pull-right tooltipped tooltipped-w\" aria-label=\"Permanent link\" title=\"2016-09-18T22:04:57+00:00\" href=\"/app/517480/history/?changeid=2275282\">September 18, 2016 – 22:04:57 UTC</a>\n",
      "Change <a href=\"/changelist/2275282/\">#2275282</a>\n",
      "</div>\n",
      "<ul class=\"app-history\">\n",
      "<li>\n",
      "<span class=\"octicon octicon-git-commit\"></span> Changed <i>changenumber</i> &ndash; <a href=\"/changelist/2274330/\">2274330</a> &rsaquo; <a href=\"/changelist/2275282/\" class=\"b changenumber\" data-time=\"1474236297\">2275282</a> <a href=\"/faq/#changenumber\" class=\"muted tooltipped tooltipped-e\" aria-label=\"Changenumber increments globally\"><span class=\"octicon octicon-question\"></span></a>\n",
      "</li>\n",
      "</ul>\n",
      "</div>\n",
      "<div class=\"panel panel-history\" data-changeid=\"2274330\">\n",
      "<div class=\"panel-heading\">\n",
      "<a class=\"muted timeago pull-right tooltipped tooltipped-w\" aria-label=\"Permanent link\" title=\"2016-09-18T01:27:41+00:00\" href=\"/app/517480/history/?changeid=2274330\">September 18, 2016 – 01:27:41 UTC</a>\n",
      "Change <a href=\"/changelist/2274330/\">#2274330</a>\n",
      "</div>\n",
      "<ul class=\"app-history\">\n",
      "<li>\n",
      "<span class=\"octicon octicon-git-commit\"></span> Changed <i>changenumber</i> &ndash; <a href=\"/changelist/2274238/\">2274238</a> &rsaquo; <a href=\"/changelist/2274330/\" class=\"b changenumber\" data-time=\"1474162061\">2274330</a> <a href=\"/faq/#changenumber\" class=\"muted tooltipped tooltipped-e\" aria-label=\"Changenumber increments globally\"><span class=\"octicon octicon-question\"></span></a>\n",
      "</li>\n",
      "</ul>\n",
      "</div>\n",
      "<div class=\"panel panel-history\" data-changeid=\"2274238\">\n",
      "<div class=\"panel-heading\">\n",
      "<a class=\"muted timeago pull-right tooltipped tooltipped-w\" aria-label=\"Permanent link\" title=\"2016-09-17T23:28:22+00:00\" href=\"/app/517480/history/?changeid=2274238\">September 17, 2016 – 23:28:22 UTC</a>\n",
      "Change <a href=\"/changelist/2274238/\">#2274238</a>\n",
      "</div>\n",
      "<ul class=\"app-history\">\n",
      "<li>\n",
      "<span class=\"octicon octicon-git-commit\"></span> Changed <i>changenumber</i> &ndash; <a href=\"/changelist/2274171/\">2274171</a> &rsaquo; <a href=\"/changelist/2274238/\" class=\"b changenumber\" data-time=\"1474154902\">2274238</a> <a href=\"/faq/#changenumber\" class=\"muted tooltipped tooltipped-e\" aria-label=\"Changenumber increments globally\"><span class=\"octicon octicon-question\"></span></a>\n",
      "</li>\n",
      "</ul>\n",
      "</div>\n",
      "<div class=\"panel panel-history\" data-changeid=\"2274171\">\n",
      "<div class=\"panel-heading\">\n",
      "<a class=\"muted timeago pull-right tooltipped tooltipped-w\" aria-label=\"Permanent link\" title=\"2016-09-17T21:44:09+00:00\" href=\"/app/517480/history/?changeid=2274171\">September 17, 2016 – 21:44:09 UTC</a>\n",
      "Change <a href=\"/changelist/2274171/\">#2274171</a>\n",
      "</div>\n",
      "<ul class=\"app-history\">\n",
      "<li>\n",
      "<span class=\"octicon octicon-git-commit\"></span> Changed <i>changenumber</i> &ndash; <a href=\"/changelist/2273344/\">2273344</a> &rsaquo; <a href=\"/changelist/2274171/\" class=\"b changenumber\" data-time=\"1474148649\">2274171</a> <a href=\"/faq/#changenumber\" class=\"muted tooltipped tooltipped-e\" aria-label=\"Changenumber increments globally\"><span class=\"octicon octicon-question\"></span></a>\n",
      "</li>\n",
      "</ul>\n",
      "</div>\n",
      "<div class=\"panel panel-history\" data-changeid=\"2273344\">\n",
      "<div class=\"panel-heading\">\n",
      "<a class=\"muted timeago pull-right tooltipped tooltipped-w\" aria-label=\"Permanent link\" title=\"2016-09-17T06:35:08+00:00\" href=\"/app/517480/history/?changeid=2273344\">September 17, 2016 – 06:35:08 UTC</a>\n",
      "Change <a href=\"/changelist/2273344/\">#2273344</a>\n",
      "</div>\n",
      "<ul class=\"app-history\">\n",
      "<li>\n",
      "<span class=\"octicon octicon-git-commit\"></span> Changed <i>changenumber</i> &ndash; <a href=\"/changelist/2273331/\">2273331</a> &rsaquo; <a href=\"/changelist/2273344/\" class=\"b changenumber\" data-time=\"1474094108\">2273344</a> <a href=\"/faq/#changenumber\" class=\"muted tooltipped tooltipped-e\" aria-label=\"Changenumber increments globally\"><span class=\"octicon octicon-question\"></span></a>\n",
      "</li>\n",
      "</ul>\n",
      "</div>\n",
      "<div class=\"panel panel-history\" data-changeid=\"2273331\">\n",
      "<div class=\"panel-heading\">\n",
      "<a class=\"muted timeago pull-right tooltipped tooltipped-w\" aria-label=\"Permanent link\" title=\"2016-09-17T06:22:08+00:00\" href=\"/app/517480/history/?changeid=2273331\">September 17, 2016 – 06:22:08 UTC</a>\n",
      "Change <a href=\"/changelist/2273331/\">#2273331</a>\n",
      "</div>\n",
      "<ul class=\"app-history\">\n",
      "<li>\n",
      "<span class=\"octicon octicon-git-commit\"></span> Changed <i>changenumber</i> &ndash; <a href=\"/changelist/2273326/\">2273326</a> &rsaquo; <a href=\"/changelist/2273331/\" class=\"b changenumber\" data-time=\"1474093328\">2273331</a> <a href=\"/faq/#changenumber\" class=\"muted tooltipped tooltipped-e\" aria-label=\"Changenumber increments globally\"><span class=\"octicon octicon-question\"></span></a>\n",
      "</li>\n",
      "</ul>\n",
      "</div>\n",
      "<div class=\"panel panel-history\" data-changeid=\"2273326\">\n",
      "<div class=\"panel-heading\">\n",
      "<a class=\"muted timeago pull-right tooltipped tooltipped-w\" aria-label=\"Permanent link\" title=\"2016-09-17T06:11:06+00:00\" href=\"/app/517480/history/?changeid=2273326\">September 17, 2016 – 06:11:06 UTC</a>\n",
      "Change <a href=\"/changelist/2273326/\">#2273326</a>\n",
      "</div>\n",
      "<ul class=\"app-history\">\n",
      "<li>\n",
      "<span class=\"octicon octicon-git-commit\"></span> Changed <i>changenumber</i> &ndash; <a href=\"/changelist/2273313/\">2273313</a> &rsaquo; <a href=\"/changelist/2273326/\" class=\"b changenumber\" data-time=\"1474092666\">2273326</a> <a href=\"/faq/#changenumber\" class=\"muted tooltipped tooltipped-e\" aria-label=\"Changenumber increments globally\"><span class=\"octicon octicon-question\"></span></a>\n",
      "</li>\n",
      "</ul>\n",
      "</div>\n",
      "<div class=\"panel panel-history\" data-changeid=\"2273313\">\n",
      "<div class=\"panel-heading\">\n",
      "<a class=\"muted timeago pull-right tooltipped tooltipped-w\" aria-label=\"Permanent link\" title=\"2016-09-17T05:44:23+00:00\" href=\"/app/517480/history/?changeid=2273313\">September 17, 2016 – 05:44:23 UTC</a>\n",
      "Change <a href=\"/changelist/2273313/\">#2273313</a>\n",
      "</div>\n",
      "<ul class=\"app-history\">\n",
      "<li>\n",
      "<span class=\"octicon octicon-git-commit\"></span> Changed <i>changenumber</i> &ndash; <a href=\"/changelist/2273301/\">2273301</a> &rsaquo; <a href=\"/changelist/2273313/\" class=\"b changenumber\" data-time=\"1474091063\">2273313</a> <a href=\"/faq/#changenumber\" class=\"muted tooltipped tooltipped-e\" aria-label=\"Changenumber increments globally\"><span class=\"octicon octicon-question\"></span></a>\n",
      "</li>\n",
      "</ul>\n",
      "</div>\n",
      "<div class=\"panel panel-history\" data-changeid=\"2273301\">\n",
      "<div class=\"panel-heading\">\n",
      "<a class=\"muted timeago pull-right tooltipped tooltipped-w\" aria-label=\"Permanent link\" title=\"2016-09-17T05:14:22+00:00\" href=\"/app/517480/history/?changeid=2273301\">September 17, 2016 – 05:14:22 UTC</a>\n",
      "Change <a href=\"/changelist/2273301/\">#2273301</a>\n",
      "</div>\n",
      "<ul class=\"app-history\">\n",
      "<li>\n",
      "<span class=\"octicon octicon-git-commit\"></span> Changed <i>changenumber</i> &ndash; <a href=\"/changelist/2273292/\">2273292</a> &rsaquo; <a href=\"/changelist/2273301/\" class=\"b changenumber\" data-time=\"1474089262\">2273301</a> <a href=\"/faq/#changenumber\" class=\"muted tooltipped tooltipped-e\" aria-label=\"Changenumber increments globally\"><span class=\"octicon octicon-question\"></span></a>\n",
      "</li>\n",
      "</ul>\n",
      "</div>\n",
      "<div class=\"panel panel-history\" data-changeid=\"2273292\">\n",
      "<div class=\"panel-heading\">\n",
      "<a class=\"muted timeago pull-right tooltipped tooltipped-w\" aria-label=\"Permanent link\" title=\"2016-09-17T04:52:22+00:00\" href=\"/app/517480/history/?changeid=2273292\">September 17, 2016 – 04:52:22 UTC</a>\n",
      "Change <a href=\"/changelist/2273292/\">#2273292</a>\n",
      "</div>\n",
      "<ul class=\"app-history\">\n",
      "<li>\n",
      "<span class=\"octicon octicon-git-commit\"></span> Changed <i>changenumber</i> &ndash; <a href=\"/changelist/2273276/\">2273276</a> &rsaquo; <a href=\"/changelist/2273292/\" class=\"b changenumber\" data-time=\"1474087942\">2273292</a> <a href=\"/faq/#changenumber\" class=\"muted tooltipped tooltipped-e\" aria-label=\"Changenumber increments globally\"><span class=\"octicon octicon-question\"></span></a>\n",
      "</li>\n",
      "</ul>\n",
      "</div>\n",
      "<div class=\"panel panel-history\" data-changeid=\"2273276\">\n",
      "<div class=\"panel-heading\">\n",
      "<a class=\"muted timeago pull-right tooltipped tooltipped-w\" aria-label=\"Permanent link\" title=\"2016-09-17T04:29:16+00:00\" href=\"/app/517480/history/?changeid=2273276\">September 17, 2016 – 04:29:16 UTC</a>\n",
      "Change <a href=\"/changelist/2273276/\">#2273276</a>\n",
      "</div>\n",
      "<ul class=\"app-history\">\n",
      "<li>\n",
      "<span class=\"octicon octicon-git-commit\"></span> Changed <i>changenumber</i> &ndash; <a href=\"/changelist/2252787/\">2252787</a> &rsaquo; <a href=\"/changelist/2273276/\" class=\"b changenumber\" data-time=\"1474086556\">2273276</a> <a href=\"/faq/#changenumber\" class=\"muted tooltipped tooltipped-e\" aria-label=\"Changenumber increments globally\"><span class=\"octicon octicon-question\"></span></a>\n",
      "</li>\n",
      "</ul>\n",
      "</div>\n",
      "<div class=\"panel panel-history\" data-changeid=\"U:3607639\">\n",
      "<div class=\"panel-heading\">\n",
      "<a class=\"muted timeago pull-right tooltipped tooltipped-w\" aria-label=\"Permanent link\" title=\"2016-09-14T19:00:36+00:00\" href=\"/app/517480/history/?changeid=U:3607639\">September 14, 2016 – 19:00:36 UTC</a>\n",
      "Change <span class=\"muted\">#U:3607639</span>\n",
      "</div>\n",
      "<ul class=\"app-history\">\n",
      "<li>\n",
      "<span class=\"octicon octicon-diff-modified\"></span> Changed <i>Release Date</i> &ndash; <del>September 20, 2016</del> &rsaquo; <ins>September 19, 2016</ins>\n",
      "</li>\n",
      "</ul>\n",
      "</div>\n",
      "<div class=\"panel panel-history\" data-changeid=\"U:3585451\">\n",
      "<div class=\"panel-heading\">\n",
      "<a class=\"muted timeago pull-right tooltipped tooltipped-w\" aria-label=\"Permanent link\" title=\"2016-09-10T01:50:04+00:00\" href=\"/app/517480/history/?changeid=U:3585451\">September 10, 2016 – 01:50:04 UTC</a>\n",
      "Change <span class=\"muted\">#U:3585451</span>\n",
      "</div>\n",
      "<ul class=\"app-history\">\n",
      "<li>\n",
      "<span class=\"octicon octicon-diff-added\"></span> Added <i>Release Date</i> &ndash; <b>September 20, 2016</b>\n",
      "</li>\n",
      "</ul>\n",
      "</div>\n",
      "<p class=\"center\">\n",
      "<span class=\"octicon octicon-sign-out\"></span> You have to be <a href=\"/login/?page=app%2F517480\">signed in via Steam</a> to load more history.\n",
      "</p>\n",
      "</div>\n",
      "</div>\n",
      "</div>\n",
      "<script src=\"/static/js/vendor/jquery.6ce509c5.js\"></script>\n",
      "<script src=\"/static/js/vendor/jquery.timeago.14152f09.js\"></script>\n",
      "<script src=\"/static/js/vendor/tablesort.0e09ce2c.js\"></script>\n",
      "<script src=\"/static/js/tabbable.4f8f7fce.js\"></script>\n",
      "<script src=\"/static/js/app.d4ee5666.js\"></script>\n",
      "<script src=\"/static/js/vendor/diff_match_patch.a39fc7a2.js\"></script>\n",
      "<script src=\"/static/js/history.3063d713.js\"></script>\n",
      "<p class=\"text-center muted\" style=\"margin-top:20px\"><a href=\"/donate/\">💗 Support us by donating</a></p>\n",
      "</div>\n",
      "<div class=\"footer-push\"></div>\n",
      "</div>\n",
      "<div class=\"footer\">\n",
      "<div class=\"container\">\n",
      "<div class=\"row\">\n",
      "<a class=\"btn btn-social span2\" href=\"irc://chat.freenode.net/steamdb\">\n",
      "<span class=\"mega-octicon octicon-comment-discussion\"></span>\n",
      "#steamdb on IRC\n",
      "</a>\n",
      "<a class=\"btn btn-social span2 tooltipped tooltipped-n\" aria-label=\"We are not related to Valve or Steam. We are not Steam Support.\" href=\"#\" id=\"js-freeman\">\n",
      "<span class=\"mega-octicon octicon-inbox\"></span>\n",
      "Send us an email\n",
      "</a><script>document.getElementById('js-freeman').href='mailto:freeman@'+location.host</script>\n",
      "<a class=\"btn btn-social span2\" href=\"https://twitter.com/SteamDB\">\n",
      "<svg height=\"32\" version=\"1\" viewBox=\"0 0 32 32\" width=\"32\" xmlns=\"http://www.w3.org/2000/svg\">\n",
      "<path d=\"M31.993 6.077c-1.177.523-2.44.876-3.77 1.033 1.355-.812 2.396-2.098 2.887-3.63-1.27.75-2.673 1.3-4.168 1.592C25.744 3.797 24.038 3 22.15 3c-3.626 0-6.563 2.938-6.563 6.563 0 .514.057 1.016.17 1.496C10.3 10.784 5.464 8.17 2.226 4.2c-.564.97-.888 2.098-.888 3.3 0 2.28 1.158 4.287 2.918 5.465-1.075-.035-2.087-.33-2.972-.82v.08c0 3.182 2.26 5.835 5.264 6.438-.55.15-1.13.23-1.73.23-.423 0-.833-.04-1.233-.117.834 2.606 3.26 4.504 6.13 4.558-2.245 1.76-5.075 2.81-8.15 2.81-.53 0-1.053-.03-1.566-.09C2.906 27.913 6.356 29 10.063 29c12.072 0 18.675-10 18.675-18.675 0-.284-.008-.568-.02-.85 1.283-.925 2.395-2.08 3.276-3.398z\"/>\n",
      "</svg>\n",
      "Follow on Twitter\n",
      "</a>\n",
      "<a class=\"btn btn-social span2\" href=\"https://steamcommunity.com/groups/steamdb\">\n",
      "<svg xmlns=\"http://www.w3.org/2000/svg\" viewBox=\"0 0 20 16\" width=\"40\" height=\"32\">\n",
      "<circle stroke-width=\"1.5\" cy=\"4.5\" cx=\"15.5\" r=\"3.75\" class=\"stroke\"/>\n",
      "<circle cx=\"15.5\" cy=\"4.5\" r=\"1.855\" class=\"fill\"/>\n",
      "<path d=\"M11.656 4.2L12.75 7.14l2.865 1.387-5.13 3.853-.867-2.09-1.773-.942z\" class=\"fill\"/>\n",
      "<circle cy=\"12.5\" cx=\"7.5\" r=\"3\" class=\"stroke\"/>\n",
      "<rect transform=\"matrix(.92432 .3816 -.38727 .92196 0 0)\" ry=\"1.526\" width=\"9.477\" y=\"7.155\" x=\"3.767\" height=\"3.053\" class=\"fill\"/>\n",
      "</svg>\n",
      "Join on Steam\n",
      "</a>\n",
      "<a class=\"btn btn-social span2\" href=\"https://github.com/SteamDatabase/SteamDatabase/issues\">\n",
      "<span class=\"mega-octicon octicon-mark-github\"></span>\n",
      "Report issues\n",
      "</a>\n",
      "</div>\n",
      "</div>\n",
      "</div>\n",
      "<div class=\"footer-disclaimer\">\n",
      "<div class=\"container\">\n",
      "<div class=\"row\">\n",
      "<div class=\"span6\">2012-2017, SteamDB</div>\n",
      "<div class=\"span6\">With <span class=\"octicon octicon-heart\"></span> by <a href=\"https://xpaw.me\">xPaw</a> and <a class=\"awesome\" href=\"https://marlamin.com/\">Marlamin</a></div>\n",
      "</div>\n",
      "<p>This site is not affiliated with Valve, Steam, or any of their partners. All copyrights reserved to their respective owners.</p>\n",
      "</div>\n",
      "</div>\n",
      "<noscript class=\"extension-warning\"><span class=\"mega-octicon octicon-shield\"></span>For SteamDB to function correctly you must enable JavaScript.</noscript>\n",
      "</body>\n",
      "</html>\n"
     ]
    }
   ],
   "source": [
    "print(html)"
   ]
  },
  {
   "cell_type": "code",
   "execution_count": 375,
   "metadata": {
    "collapsed": true
   },
   "outputs": [],
   "source": [
    "soup = BeautifulSoup(html,\"lxml\")"
   ]
  },
  {
   "cell_type": "code",
   "execution_count": 376,
   "metadata": {},
   "outputs": [],
   "source": [
    "tables=soup.find_all(\"table\")"
   ]
  },
  {
   "cell_type": "markdown",
   "metadata": {},
   "source": [
    "## Head Table, basic info"
   ]
  },
  {
   "cell_type": "code",
   "execution_count": 377,
   "metadata": {},
   "outputs": [
    {
     "data": {
      "text/plain": [
       "'517480'"
      ]
     },
     "execution_count": 377,
     "metadata": {},
     "output_type": "execute_result"
    }
   ],
   "source": [
    "ID_num = soup.find(class_=\"table table-bordered table-hover table-dark\")\\\n",
    "    .findNext(\"td\").findNext(\"td\").text\n",
    "ID_num"
   ]
  },
  {
   "cell_type": "code",
   "execution_count": 378,
   "metadata": {},
   "outputs": [
    {
     "data": {
      "text/plain": [
       "'Game'"
      ]
     },
     "execution_count": 378,
     "metadata": {},
     "output_type": "execute_result"
    }
   ],
   "source": [
    "applicationCategory = soup.find(itemprop=\"applicationCategory\").text\n",
    "applicationCategory"
   ]
  },
  {
   "cell_type": "code",
   "execution_count": 379,
   "metadata": {},
   "outputs": [
    {
     "data": {
      "text/plain": [
       "'VHSoverdose'"
      ]
     },
     "execution_count": 379,
     "metadata": {},
     "output_type": "execute_result"
    }
   ],
   "source": [
    "Name = soup.find(itemprop=\"name\").text\n",
    "Name"
   ]
  },
  {
   "cell_type": "code",
   "execution_count": 380,
   "metadata": {},
   "outputs": [],
   "source": [
    "#Store_Name = soup.find(itemprop=\"alternateName\").text\n",
    "#Store_Name"
   ]
  },
  {
   "cell_type": "code",
   "execution_count": 381,
   "metadata": {},
   "outputs": [
    {
     "data": {
      "text/plain": [
       "'CallThePolices'"
      ]
     },
     "execution_count": 381,
     "metadata": {},
     "output_type": "execute_result"
    }
   ],
   "source": [
    "Developer = soup.find(itemprop=\"author\").text\n",
    "Developer"
   ]
  },
  {
   "cell_type": "code",
   "execution_count": 382,
   "metadata": {},
   "outputs": [
    {
     "data": {
      "text/plain": [
       "'CallThePolices'"
      ]
     },
     "execution_count": 382,
     "metadata": {},
     "output_type": "execute_result"
    }
   ],
   "source": [
    "Publisher = soup.find(itemprop=\"publisher\").text\n",
    "Publisher"
   ]
  },
  {
   "cell_type": "code",
   "execution_count": 383,
   "metadata": {},
   "outputs": [
    {
     "name": "stdout",
     "output_type": "stream",
     "text": [
      "Supported Systems\n",
      "<i aria-label=\"Windows\" class=\"icon icon-windows tooltipped tooltipped-n\"></i>\n",
      "<i aria-label=\"Windows\" class=\"icon icon-windows tooltipped tooltipped-n\"></i>\n"
     ]
    },
    {
     "data": {
      "text/plain": [
       "True"
      ]
     },
     "execution_count": 383,
     "metadata": {},
     "output_type": "execute_result"
    }
   ],
   "source": [
    "Ops = tables[0].find(text = \"Supported Systems\")\n",
    "print(tables[0].find(text = \"Supported Systems\"))\n",
    "\n",
    "Ops = tables[0].find(text = \"Supported Systems\").findNext('td')\n",
    "\n",
    "OS_windows = Ops.find(class_=\"icon icon-windows tooltipped tooltipped-n\")\n",
    "print(OS_windows)\n",
    "print(str(OS_windows))\n",
    "if str(OS_windows) == 'None' : OS_windows = False\n",
    "else: OS_windows = True\n",
    "OS_windows"
   ]
  },
  {
   "cell_type": "code",
   "execution_count": 384,
   "metadata": {},
   "outputs": [
    {
     "name": "stdout",
     "output_type": "stream",
     "text": [
      "None\n",
      "None\n"
     ]
    },
    {
     "data": {
      "text/plain": [
       "False"
      ]
     },
     "execution_count": 384,
     "metadata": {},
     "output_type": "execute_result"
    }
   ],
   "source": [
    "OS_mac = Ops.find(class_=\"icon icon-macos tooltipped tooltipped-n\")\n",
    "print(OS_mac)\n",
    "print(str(OS_mac))\n",
    "if str(OS_mac) == 'None' : OS_mac = False\n",
    "else: OS_mac = True\n",
    "OS_mac"
   ]
  },
  {
   "cell_type": "code",
   "execution_count": 385,
   "metadata": {},
   "outputs": [
    {
     "name": "stdout",
     "output_type": "stream",
     "text": [
      "None\n"
     ]
    },
    {
     "data": {
      "text/plain": [
       "False"
      ]
     },
     "execution_count": 385,
     "metadata": {},
     "output_type": "execute_result"
    }
   ],
   "source": [
    "OS_linux = Ops.find(class_=\"icon icon-linux tooltipped tooltipped-n\")\n",
    "print(OS_linux)\n",
    "if str(OS_linux) == 'None' : OS_linux = False\n",
    "else: OS_linux = True\n",
    "OS_linux"
   ]
  },
  {
   "cell_type": "code",
   "execution_count": 364,
   "metadata": {},
   "outputs": [
    {
     "data": {
      "text/plain": [
       "False"
      ]
     },
     "execution_count": 364,
     "metadata": {},
     "output_type": "execute_result"
    }
   ],
   "source": [
    "SteamPlay = tables[0].find(class_=\"icon-steamplay\")\n",
    "if str(SteamPlay) == 'None' : SteamPlay = False\n",
    "else: SteamPlay = True\n",
    "SteamPlay"
   ]
  },
  {
   "cell_type": "code",
   "execution_count": null,
   "metadata": {
    "collapsed": true
   },
   "outputs": [],
   "source": []
  },
  {
   "cell_type": "code",
   "execution_count": 237,
   "metadata": {},
   "outputs": [
    {
     "data": {
      "text/plain": [
       "'December 11, 2012 ()'"
      ]
     },
     "execution_count": 237,
     "metadata": {},
     "output_type": "execute_result"
    }
   ],
   "source": [
    "soup.find(text=\"Release Date\").findNext('td').text"
   ]
  },
  {
   "cell_type": "code",
   "execution_count": 206,
   "metadata": {},
   "outputs": [
    {
     "name": "stdout",
     "output_type": "stream",
     "text": [
      "Fall 2017\n"
     ]
    },
    {
     "ename": "ValueError",
     "evalue": "Unknown string format",
     "output_type": "error",
     "traceback": [
      "\u001b[0;31m---------------------------------------------------------------------------\u001b[0m",
      "\u001b[0;31mValueError\u001b[0m                                Traceback (most recent call last)",
      "\u001b[0;32m<ipython-input-206-2d8293d2a676>\u001b[0m in \u001b[0;36m<module>\u001b[0;34m()\u001b[0m\n\u001b[1;32m      5\u001b[0m     \u001b[0;32melse\u001b[0m\u001b[0;34m:\u001b[0m\u001b[0;34m\u001b[0m\u001b[0m\n\u001b[1;32m      6\u001b[0m         \u001b[0mRelease_Date\u001b[0m \u001b[0;34m=\u001b[0m \u001b[0msoup\u001b[0m\u001b[0;34m.\u001b[0m\u001b[0mfind\u001b[0m\u001b[0;34m(\u001b[0m\u001b[0mtext\u001b[0m\u001b[0;34m=\u001b[0m\u001b[0;34m\"Release Date\"\u001b[0m\u001b[0;34m)\u001b[0m\u001b[0;34m.\u001b[0m\u001b[0mfindNext\u001b[0m\u001b[0;34m(\u001b[0m\u001b[0;34m'td'\u001b[0m\u001b[0;34m)\u001b[0m\u001b[0;34m\u001b[0m\u001b[0m\n\u001b[0;32m----> 7\u001b[0;31m         \u001b[0mRelease_Date\u001b[0m \u001b[0;34m=\u001b[0m \u001b[0mparse\u001b[0m\u001b[0;34m(\u001b[0m\u001b[0mRelease_Date\u001b[0m\u001b[0;34m.\u001b[0m\u001b[0mtext\u001b[0m\u001b[0;34m.\u001b[0m\u001b[0mstrip\u001b[0m\u001b[0;34m(\u001b[0m\u001b[0;34m\"()\"\u001b[0m\u001b[0;34m)\u001b[0m\u001b[0;34m)\u001b[0m\u001b[0;34m\u001b[0m\u001b[0m\n\u001b[0m\u001b[1;32m      8\u001b[0m         \u001b[0mRelease_Date\u001b[0m\u001b[0;34m\u001b[0m\u001b[0m\n\u001b[1;32m      9\u001b[0m \u001b[0mRelease_Date\u001b[0m\u001b[0;34m\u001b[0m\u001b[0m\n",
      "\u001b[0;32m~/anaconda/lib/python3.6/site-packages/dateutil/parser.py\u001b[0m in \u001b[0;36mparse\u001b[0;34m(timestr, parserinfo, **kwargs)\u001b[0m\n\u001b[1;32m   1166\u001b[0m         \u001b[0;32mreturn\u001b[0m \u001b[0mparser\u001b[0m\u001b[0;34m(\u001b[0m\u001b[0mparserinfo\u001b[0m\u001b[0;34m)\u001b[0m\u001b[0;34m.\u001b[0m\u001b[0mparse\u001b[0m\u001b[0;34m(\u001b[0m\u001b[0mtimestr\u001b[0m\u001b[0;34m,\u001b[0m \u001b[0;34m**\u001b[0m\u001b[0mkwargs\u001b[0m\u001b[0;34m)\u001b[0m\u001b[0;34m\u001b[0m\u001b[0m\n\u001b[1;32m   1167\u001b[0m     \u001b[0;32melse\u001b[0m\u001b[0;34m:\u001b[0m\u001b[0;34m\u001b[0m\u001b[0m\n\u001b[0;32m-> 1168\u001b[0;31m         \u001b[0;32mreturn\u001b[0m \u001b[0mDEFAULTPARSER\u001b[0m\u001b[0;34m.\u001b[0m\u001b[0mparse\u001b[0m\u001b[0;34m(\u001b[0m\u001b[0mtimestr\u001b[0m\u001b[0;34m,\u001b[0m \u001b[0;34m**\u001b[0m\u001b[0mkwargs\u001b[0m\u001b[0;34m)\u001b[0m\u001b[0;34m\u001b[0m\u001b[0m\n\u001b[0m\u001b[1;32m   1169\u001b[0m \u001b[0;34m\u001b[0m\u001b[0m\n\u001b[1;32m   1170\u001b[0m \u001b[0;34m\u001b[0m\u001b[0m\n",
      "\u001b[0;32m~/anaconda/lib/python3.6/site-packages/dateutil/parser.py\u001b[0m in \u001b[0;36mparse\u001b[0;34m(self, timestr, default, ignoretz, tzinfos, **kwargs)\u001b[0m\n\u001b[1;32m    557\u001b[0m \u001b[0;34m\u001b[0m\u001b[0m\n\u001b[1;32m    558\u001b[0m         \u001b[0;32mif\u001b[0m \u001b[0mres\u001b[0m \u001b[0;32mis\u001b[0m \u001b[0;32mNone\u001b[0m\u001b[0;34m:\u001b[0m\u001b[0;34m\u001b[0m\u001b[0m\n\u001b[0;32m--> 559\u001b[0;31m             \u001b[0;32mraise\u001b[0m \u001b[0mValueError\u001b[0m\u001b[0;34m(\u001b[0m\u001b[0;34m\"Unknown string format\"\u001b[0m\u001b[0;34m)\u001b[0m\u001b[0;34m\u001b[0m\u001b[0m\n\u001b[0m\u001b[1;32m    560\u001b[0m \u001b[0;34m\u001b[0m\u001b[0m\n\u001b[1;32m    561\u001b[0m         \u001b[0;32mif\u001b[0m \u001b[0mlen\u001b[0m\u001b[0;34m(\u001b[0m\u001b[0mres\u001b[0m\u001b[0;34m)\u001b[0m \u001b[0;34m==\u001b[0m \u001b[0;36m0\u001b[0m\u001b[0;34m:\u001b[0m\u001b[0;34m\u001b[0m\u001b[0m\n",
      "\u001b[0;31mValueError\u001b[0m: Unknown string format"
     ]
    }
   ],
   "source": [
    "print(soup.find(text=\"Release Date\").findNext('td').text)\n",
    "if soup.find(text=\"Release Date\") == None : Release_Date = None\n",
    "else:\n",
    "    if soup.find(text=\"Release Date\").findNext('td').text == \"Coming Soon\": Release_Date = \"Coming Soon\"\n",
    "    else:\n",
    "        Release_Date = soup.find(text=\"Release Date\").findNext('td')\n",
    "        Release_Date = parse(Release_Date.text.strip(\"()\"))\n",
    "        Release_Date\n",
    "Release_Date"
   ]
  },
  {
   "cell_type": "code",
   "execution_count": null,
   "metadata": {},
   "outputs": [],
   "source": []
  },
  {
   "cell_type": "markdown",
   "metadata": {},
   "source": [
    "## Front Page info, not in table:\n",
    "-- Other information from the top of the page, very important stuff!"
   ]
  },
  {
   "cell_type": "code",
   "execution_count": 166,
   "metadata": {},
   "outputs": [
    {
     "data": {
      "text/plain": [
       "<span aria-label=\"96.24% of the 8,287 user reviews for this game are positive.\n",
       "\n",
       "User Reviews Wilson Score (positive / negative)\" class=\"header-thing header-thing-good tooltipped tooltipped-n\" itemprop=\"aggregateRating\" itemscope=\"\" itemtype=\"http://schema.org/AggregateRating\">\n",
       "<meta content=\"0\" itemprop=\"worstRating\"/>\n",
       "<meta content=\"100\" itemprop=\"bestRating\"/>\n",
       "<meta content=\"95.74\" itemprop=\"ratingValue\"/>\n",
       "<meta content=\"8287\" itemprop=\"reviewCount\"/>\n",
       "<span class=\"octicon octicon-thumbsup\"></span> 95.74%\n",
       "<small class=\"muted\"> (\n",
       "<i class=\"header-thing-good\">8k</i> / 312\n",
       ")</small>\n",
       "</span>"
      ]
     },
     "execution_count": 166,
     "metadata": {},
     "output_type": "execute_result"
    }
   ],
   "source": [
    "usr_review_info = soup.find(class_=\"header-thing header-thing-good tooltipped tooltipped-n\")\n",
    "#pos_usr_review = usr_review_info.findNext().findNext().findNext()\n",
    "usr_review_info"
   ]
  },
  {
   "cell_type": "code",
   "execution_count": 167,
   "metadata": {},
   "outputs": [
    {
     "data": {
      "text/plain": [
       "'0'"
      ]
     },
     "execution_count": 167,
     "metadata": {},
     "output_type": "execute_result"
    }
   ],
   "source": [
    "worstRating = usr_review_info.find(itemprop=\"worstRating\")\n",
    "worstRating = str(worstRating).split(\"\\\"\")[1]\n",
    "worstRating"
   ]
  },
  {
   "cell_type": "code",
   "execution_count": 168,
   "metadata": {},
   "outputs": [
    {
     "data": {
      "text/plain": [
       "'100'"
      ]
     },
     "execution_count": 168,
     "metadata": {},
     "output_type": "execute_result"
    }
   ],
   "source": [
    "bestRating = usr_review_info.find(itemprop=\"bestRating\")\n",
    "bestRating = str(bestRating).split(\"\\\"\")[1]\n",
    "bestRating"
   ]
  },
  {
   "cell_type": "code",
   "execution_count": 169,
   "metadata": {},
   "outputs": [
    {
     "data": {
      "text/plain": [
       "'95.74'"
      ]
     },
     "execution_count": 169,
     "metadata": {},
     "output_type": "execute_result"
    }
   ],
   "source": [
    "ratingValue = usr_review_info.find(itemprop=\"ratingValue\")\n",
    "ratingValue = str(ratingValue).split(\"\\\"\")[1]\n",
    "ratingValue"
   ]
  },
  {
   "cell_type": "code",
   "execution_count": 170,
   "metadata": {},
   "outputs": [
    {
     "data": {
      "text/plain": [
       "'8287'"
      ]
     },
     "execution_count": 170,
     "metadata": {},
     "output_type": "execute_result"
    }
   ],
   "source": [
    "reviewCount = usr_review_info.find(itemprop=\"reviewCount\")\n",
    "reviewCount = str(reviewCount).split(\"\\\"\")[1]\n",
    "reviewCount"
   ]
  },
  {
   "cell_type": "code",
   "execution_count": null,
   "metadata": {
    "collapsed": true
   },
   "outputs": [],
   "source": []
  },
  {
   "cell_type": "code",
   "execution_count": null,
   "metadata": {
    "collapsed": true
   },
   "outputs": [],
   "source": []
  },
  {
   "cell_type": "code",
   "execution_count": null,
   "metadata": {
    "collapsed": true
   },
   "outputs": [],
   "source": []
  },
  {
   "cell_type": "code",
   "execution_count": null,
   "metadata": {
    "collapsed": true
   },
   "outputs": [],
   "source": []
  },
  {
   "cell_type": "code",
   "execution_count": null,
   "metadata": {
    "collapsed": true
   },
   "outputs": [],
   "source": []
  },
  {
   "cell_type": "code",
   "execution_count": null,
   "metadata": {
    "collapsed": true
   },
   "outputs": [],
   "source": []
  },
  {
   "cell_type": "code",
   "execution_count": null,
   "metadata": {
    "collapsed": true
   },
   "outputs": [],
   "source": []
  },
  {
   "cell_type": "markdown",
   "metadata": {},
   "source": [
    "## Pulling Out the Tables for easier access to the rest"
   ]
  },
  {
   "cell_type": "code",
   "execution_count": 246,
   "metadata": {},
   "outputs": [
    {
     "data": {
      "text/plain": [
       "<table class=\"table table-fixed table-prices table-hover table-sortable\">\n",
       "<thead>\n",
       "<tr>\n",
       "<th class=\"span3\">Currency</th>\n",
       "<th class=\"span3 no-sort\">Current Price</th>\n",
       "<th class=\"span3 sort-default sort-up\" colspan=\"2\">Converted Price</th>\n",
       "<th class=\"no-sort\">Lowest Recorded Price <small class=\"timeago pull-right\" title=\"2016-02-18T10:01:24+00:00\">February 18, 2016</small></th>\n",
       "</tr>\n",
       "</thead>\n",
       "<tbody>\n",
       "<tr class=\"owned\">\n",
       "<td class=\"price-line\" data-cc=\"us\" id=\"js-price-history\">\n",
       "<img alt=\"us\" class=\"flag flag-us\" height=\"11\" src=\"/static/p.gif\" width=\"16\"/> U.S. Dollar\n",
       "</td>\n",
       "<td data-sort=\"0\">$9.99</td>\n",
       "<td class=\"muted\" colspan=\"2\" data-sort=\"999\">Base Price</td>\n",
       "<td title=\"December 4, 2014\">$0.99 at <span class=\"price-discount-major\">-90%</span></td>\n",
       "</tr>\n",
       "<tr>\n",
       "<td class=\"price-line\" data-cc=\"uk\">\n",
       "<img alt=\"uk\" class=\"flag flag-uk\" height=\"11\" src=\"/static/p.gif\" width=\"16\"/> British Pound\n",
       "</td>\n",
       "<td data-sort=\"0\">£7.99</td>\n",
       "<td data-sort=\"1046.3250940633\">$10.46</td>\n",
       "<td class=\"price-discount-minor\">+4.74%</td>\n",
       "<td title=\"December 4, 2014\">£0.79 at <span class=\"price-discount-major\">-90%</span></td>\n",
       "</tr>\n",
       "<tr>\n",
       "<td class=\"price-line\" data-cc=\"eu\">\n",
       "<img alt=\"eu\" class=\"flag flag-eu\" height=\"11\" src=\"/static/p.gif\" width=\"16\"/> Euro\n",
       "</td>\n",
       "<td data-sort=\"0\">9,99€</td>\n",
       "<td data-sort=\"1145.6527123881\">$11.46</td>\n",
       "<td class=\"price-discount-minor\">+14.68%</td>\n",
       "<td title=\"February 18, 2016\">0,99€ at <span class=\"price-discount-major\">-90%</span></td>\n",
       "</tr>\n",
       "<tr>\n",
       "<td class=\"price-line\" data-cc=\"ru\">\n",
       "<img alt=\"ru\" class=\"flag flag-ru\" height=\"11\" src=\"/static/p.gif\" width=\"16\"/> Russian Ruble\n",
       "</td>\n",
       "<td data-sort=\"0\">279р.</td>\n",
       "<td data-sort=\"472.4409448800\">$4.72</td>\n",
       "<td class=\"price-discount-major\">-52.71%</td>\n",
       "<td title=\"December 4, 2014\">27р. at <span class=\"price-discount-major\">-90%</span></td>\n",
       "</tr>\n",
       "<tr>\n",
       "<td class=\"price-line\" data-cc=\"az\">\n",
       "<img alt=\"az\" class=\"flag flag-az\" height=\"11\" src=\"/static/p.gif\" width=\"16\"/> CIS - U.S. Dollar\n",
       "</td>\n",
       "<td data-sort=\"0\">$7.99</td>\n",
       "<td data-sort=\"799\">$7.99</td>\n",
       "<td class=\"price-discount\">-20.02%</td>\n",
       "<td title=\"December 4, 2014\">$0.79 at <span class=\"price-discount-major\">-90%</span></td>\n",
       "</tr>\n",
       "<tr>\n",
       "<td class=\"price-line\" data-cc=\"br\">\n",
       "<img alt=\"br\" class=\"flag flag-br\" height=\"11\" src=\"/static/p.gif\" width=\"16\"/> Brazilian Real\n",
       "</td>\n",
       "<td data-sort=\"0\">R$16,99</td>\n",
       "<td data-sort=\"534.226330755\">$5.34</td>\n",
       "<td class=\"price-discount\">-46.52%</td>\n",
       "<td title=\"December 4, 2014\">R$1,69 at <span class=\"price-discount-major\">-90%</span></td>\n",
       "</tr>\n",
       "<tr>\n",
       "<td class=\"price-line\" data-cc=\"jp\">\n",
       "<img alt=\"jp\" class=\"flag flag-jp\" height=\"11\" src=\"/static/p.gif\" width=\"16\"/> Japanese Yen\n",
       "</td>\n",
       "<td data-sort=\"0\">¥ 980</td>\n",
       "<td data-sort=\"870.7297158000\">$8.71</td>\n",
       "<td class=\"price-discount\">-12.84%</td>\n",
       "<td title=\"December 4, 2014\">¥ 98 at <span class=\"price-discount-major\">-90%</span></td>\n",
       "</tr>\n",
       "<tr>\n",
       "<td class=\"price-line\" data-cc=\"ph\">\n",
       "<img alt=\"ph\" class=\"flag flag-ph\" height=\"11\" src=\"/static/p.gif\" width=\"16\"/> Philippine Peso\n",
       "</td>\n",
       "<td data-sort=\"0\">₱319.95</td>\n",
       "<td data-sort=\"631.9375835220\">$6.32</td>\n",
       "<td class=\"price-discount\">-36.74%</td>\n",
       "<td title=\"December 4, 2014\">₱31.99 at <span class=\"price-discount-major\">-90%</span></td>\n",
       "</tr>\n",
       "<tr>\n",
       "<td class=\"price-line\" data-cc=\"th\">\n",
       "<img alt=\"th\" class=\"flag flag-th\" height=\"11\" src=\"/static/p.gif\" width=\"16\"/> Thai Baht\n",
       "</td>\n",
       "<td data-sort=\"0\">฿219.00</td>\n",
       "<td data-sort=\"648.8985001500\">$6.49</td>\n",
       "<td class=\"price-discount\">-35.05%</td>\n",
       "<td title=\"December 4, 2014\">฿21.90 at <span class=\"price-discount-major\">-90%</span></td>\n",
       "</tr>\n",
       "<tr>\n",
       "<td class=\"price-line\" data-cc=\"my\">\n",
       "<img alt=\"my\" class=\"flag flag-my\" height=\"11\" src=\"/static/p.gif\" width=\"16\"/> Malaysian Ringgit\n",
       "</td>\n",
       "<td data-sort=\"0\">RM23.00</td>\n",
       "<td data-sort=\"535.8182876700\">$5.36</td>\n",
       "<td class=\"price-discount\">-46.36%</td>\n",
       "<td title=\"December 4, 2014\">RM2.30 at <span class=\"price-discount-major\">-90%</span></td>\n",
       "</tr>\n",
       "<tr>\n",
       "<td class=\"price-line\" data-cc=\"sg\">\n",
       "<img alt=\"sg\" class=\"flag flag-sg\" height=\"11\" src=\"/static/p.gif\" width=\"16\"/> Singapore Dollar\n",
       "</td>\n",
       "<td data-sort=\"0\">S$10.50</td>\n",
       "<td data-sort=\"765.8922644100\">$7.66</td>\n",
       "<td class=\"price-discount\">-23.33%</td>\n",
       "<td title=\"December 4, 2014\">S$1.05 at <span class=\"price-discount-major\">-90%</span></td>\n",
       "</tr>\n",
       "<tr>\n",
       "<td class=\"price-line\" data-cc=\"id\">\n",
       "<img alt=\"id\" class=\"flag flag-id\" height=\"11\" src=\"/static/p.gif\" width=\"16\"/> Indonesian Rupiah\n",
       "</td>\n",
       "<td data-sort=\"0\">Rp 89,999</td>\n",
       "<td data-sort=\"676.000488800\">$6.76</td>\n",
       "<td class=\"price-discount\">-32.33%</td>\n",
       "<td title=\"December 4, 2014\">Rp 8,999 at <span class=\"price-discount-major\">-90%</span></td>\n",
       "</tr>\n",
       "<tr>\n",
       "<td class=\"price-line\" data-cc=\"no\">\n",
       "<img alt=\"no\" class=\"flag flag-no\" height=\"11\" src=\"/static/p.gif\" width=\"16\"/> Norwegian Krone\n",
       "</td>\n",
       "<td data-sort=\"0\">70,00 kr</td>\n",
       "<td data-sort=\"855.9654677000\">$8.56</td>\n",
       "<td class=\"price-discount\">-14.32%</td>\n",
       "<td title=\"December 4, 2014\">7,00 kr at <span class=\"price-discount-major\">-90%</span></td>\n",
       "</tr>\n",
       "<tr>\n",
       "<td class=\"price-line\" data-cc=\"ca\">\n",
       "<img alt=\"ca\" class=\"flag flag-ca\" height=\"11\" src=\"/static/p.gif\" width=\"16\"/> Canadian Dollar\n",
       "</td>\n",
       "<td data-sort=\"0\">C$10.99</td>\n",
       "<td data-sort=\"869.0151424563\">$8.69</td>\n",
       "<td class=\"price-discount\">-13.01%</td>\n",
       "<td title=\"December 4, 2014\">C$1.09 at <span class=\"price-discount-major\">-90%</span></td>\n",
       "</tr>\n",
       "<tr>\n",
       "<td class=\"price-line\" data-cc=\"tr\">\n",
       "<img alt=\"tr\" class=\"flag flag-tr\" height=\"11\" src=\"/static/p.gif\" width=\"16\"/> Turkish Lira\n",
       "</td>\n",
       "<td data-sort=\"0\">₺18,00</td>\n",
       "<td data-sort=\"508.8224152800\">$5.09</td>\n",
       "<td class=\"price-discount\">-49.07%</td>\n",
       "<td title=\"December 4, 2014\">₺1,80 at <span class=\"price-discount-major\">-90%</span></td>\n",
       "</tr>\n",
       "<tr>\n",
       "<td class=\"price-line\" data-cc=\"mx\">\n",
       "<img alt=\"mx\" class=\"flag flag-mx\" height=\"11\" src=\"/static/p.gif\" width=\"16\"/> Mexican Peso\n",
       "</td>\n",
       "<td data-sort=\"0\">Mex$109.99</td>\n",
       "<td data-sort=\"626.2535100866\">$6.26</td>\n",
       "<td class=\"price-discount\">-37.31%</td>\n",
       "<td title=\"December 4, 2014\">Mex$10.99 at <span class=\"price-discount-major\">-90%</span></td>\n",
       "</tr>\n",
       "<tr>\n",
       "<td class=\"price-line\" data-cc=\"nz\">\n",
       "<img alt=\"nz\" class=\"flag flag-nz\" height=\"11\" src=\"/static/p.gif\" width=\"16\"/> New Zealand Dollar\n",
       "</td>\n",
       "<td data-sort=\"0\">NZ$11.99</td>\n",
       "<td data-sort=\"880.7854342914\">$8.81</td>\n",
       "<td class=\"price-discount\">-11.83%</td>\n",
       "<td title=\"May 4, 2015\">NZ$1.19 at <span class=\"price-discount-major\">-90%</span></td>\n",
       "</tr>\n",
       "<tr>\n",
       "<td class=\"price-line\" data-cc=\"in\">\n",
       "<img alt=\"in\" class=\"flag flag-in\" height=\"11\" src=\"/static/p.gif\" width=\"16\"/> Indian Rupee\n",
       "</td>\n",
       "<td data-sort=\"0\">₹ 499</td>\n",
       "<td data-sort=\"776.2670695700\">$7.76</td>\n",
       "<td class=\"price-discount\">-22.30%</td>\n",
       "<td title=\"November 25, 2015\">₹ 49 at <span class=\"price-discount-major\">-90%</span></td>\n",
       "</tr>\n",
       "<tr>\n",
       "<td class=\"price-line\" data-cc=\"hk\">\n",
       "<img alt=\"hk\" class=\"flag flag-hk\" height=\"11\" src=\"/static/p.gif\" width=\"16\"/> Hong Kong Dollar\n",
       "</td>\n",
       "<td data-sort=\"0\">HK$75.00</td>\n",
       "<td data-sort=\"961.1022682500\">$9.61</td>\n",
       "<td class=\"price-discount\">-3.79%</td>\n",
       "<td title=\"November 25, 2015\">HK$7.50 at <span class=\"price-discount-major\">-90%</span></td>\n",
       "</tr>\n",
       "<tr>\n",
       "<td class=\"price-line\" data-cc=\"tw\">\n",
       "<img alt=\"tw\" class=\"flag flag-tw\" height=\"11\" src=\"/static/p.gif\" width=\"16\"/> Taiwan Dollar\n",
       "</td>\n",
       "<td data-sort=\"0\">NT$278.00</td>\n",
       "<td data-sort=\"915.0154689000\">$9.15</td>\n",
       "<td class=\"price-discount\">-8.41%</td>\n",
       "<td title=\"November 25, 2015\">NT$27.00 at <span class=\"price-discount-major\">-90%</span></td>\n",
       "</tr>\n",
       "<tr>\n",
       "<td class=\"price-line\" data-cc=\"cn\">\n",
       "<img alt=\"cn\" class=\"flag flag-cn\" height=\"11\" src=\"/static/p.gif\" width=\"16\"/> Chinese Yuan\n",
       "</td>\n",
       "<td data-sort=\"0\">¥42.00</td>\n",
       "<td data-sort=\"619.6563857400\">$6.20</td>\n",
       "<td class=\"price-discount\">-37.97%</td>\n",
       "<td title=\"November 25, 2015\">¥4.00 at <span class=\"price-discount-major\">-90%</span></td>\n",
       "</tr>\n",
       "<tr>\n",
       "<td class=\"price-line\" data-cc=\"za\">\n",
       "<img alt=\"za\" class=\"flag flag-za\" height=\"11\" src=\"/static/p.gif\" width=\"16\"/> South African Rand\n",
       "</td>\n",
       "<td data-sort=\"0\">R 109.00</td>\n",
       "<td data-sort=\"836.5574041300\">$8.37</td>\n",
       "<td class=\"price-discount\">-16.26%</td>\n",
       "<td title=\"November 25, 2015\">R 10.90 at <span class=\"price-discount-major\">-90%</span></td>\n",
       "</tr>\n",
       "<tr>\n",
       "<td class=\"price-line\" data-cc=\"sa\">\n",
       "<img alt=\"sa\" class=\"flag flag-sa\" height=\"11\" src=\"/static/p.gif\" width=\"16\"/> Saudi Riyal\n",
       "</td>\n",
       "<td data-sort=\"0\">33.00 SR</td>\n",
       "<td data-sort=\"879.929605500\">$8.80</td>\n",
       "<td class=\"price-discount\">-11.92%</td>\n",
       "<td title=\"November 25, 2015\">3.30 SR at <span class=\"price-discount-major\">-90%</span></td>\n",
       "</tr>\n",
       "<tr>\n",
       "<td class=\"price-line\" data-cc=\"ae\">\n",
       "<img alt=\"ae\" class=\"flag flag-ae\" height=\"11\" src=\"/static/p.gif\" width=\"16\"/> UAE Dirham\n",
       "</td>\n",
       "<td data-sort=\"0\">33.00 AED</td>\n",
       "<td data-sort=\"898.4437317900\">$8.98</td>\n",
       "<td class=\"price-discount\">-10.07%</td>\n",
       "<td title=\"November 25, 2015\">3.30 AED at <span class=\"price-discount-major\">-90%</span></td>\n",
       "</tr>\n",
       "<tr>\n",
       "<td class=\"price-line\" data-cc=\"kr\">\n",
       "<img alt=\"kr\" class=\"flag flag-kr\" height=\"11\" src=\"/static/p.gif\" width=\"16\"/> South Korean Won\n",
       "</td>\n",
       "<td data-sort=\"0\">₩ 10,500</td>\n",
       "<td data-sort=\"929.9688300000\">$9.30</td>\n",
       "<td class=\"price-discount\">-6.91%</td>\n",
       "<td title=\"November 25, 2015\">₩ 1,050 at <span class=\"price-discount-major\">-90%</span></td>\n",
       "</tr>\n",
       "<tr>\n",
       "<td class=\"price-line\" data-cc=\"ch\">\n",
       "<img alt=\"ch\" class=\"flag flag-ch\" height=\"11\" src=\"/static/p.gif\" width=\"16\"/> Swiss Franc\n",
       "</td>\n",
       "<td data-sort=\"0\">CHF 10.99</td>\n",
       "<td data-sort=\"1140.7929497083\">$11.41</td>\n",
       "<td class=\"price-discount-minor\">+14.19%</td>\n",
       "<td title=\"November 25, 2015\">CHF 1.09 at <span class=\"price-discount-major\">-90%</span></td>\n",
       "</tr>\n",
       "<tr>\n",
       "<td class=\"price-line\" data-cc=\"cl\">\n",
       "<img alt=\"cl\" class=\"flag flag-cl\" height=\"11\" src=\"/static/p.gif\" width=\"16\"/> Chilean Peso\n",
       "</td>\n",
       "<td data-sort=\"0\">CLP$ 5,500</td>\n",
       "<td data-sort=\"836.5018750000\">$8.37</td>\n",
       "<td class=\"price-discount\">-16.27%</td>\n",
       "<td title=\"November 25, 2015\">CLP$ 550 at <span class=\"price-discount-major\">-90%</span></td>\n",
       "</tr>\n",
       "<tr>\n",
       "<td class=\"price-line\" data-cc=\"pe\">\n",
       "<img alt=\"pe\" class=\"flag flag-pe\" height=\"11\" src=\"/static/p.gif\" width=\"16\"/> Peruvian Nuevo Sol\n",
       "</td>\n",
       "<td data-sort=\"0\">S/. 27.95</td>\n",
       "<td data-sort=\"861.85630570\">$8.62</td>\n",
       "<td class=\"price-discount\">-13.73%</td>\n",
       "<td title=\"November 25, 2015\">S/. 2.79 at <span class=\"price-discount-major\">-90%</span></td>\n",
       "</tr>\n",
       "<tr>\n",
       "<td class=\"price-line\" data-cc=\"co\">\n",
       "<img alt=\"co\" class=\"flag flag-co\" height=\"11\" src=\"/static/p.gif\" width=\"16\"/> Colombian Peso\n",
       "</td>\n",
       "<td data-sort=\"0\">COL$ 23500</td>\n",
       "<td data-sort=\"778.4034250000\">$7.78</td>\n",
       "<td class=\"price-discount\">-22.08%</td>\n",
       "<td title=\"November 25, 2015\">COL$ 2350 at <span class=\"price-discount-major\">-90%</span></td>\n",
       "</tr>\n",
       "</tbody>\n",
       "</table>"
      ]
     },
     "execution_count": 246,
     "metadata": {},
     "output_type": "execute_result"
    }
   ],
   "source": [
    "tables=soup.find_all(\"table\")\n",
    "tables[1]  #the nth table on the page"
   ]
  },
  {
   "cell_type": "code",
   "execution_count": 248,
   "metadata": {},
   "outputs": [
    {
     "data": {
      "text/plain": [
       "True"
      ]
     },
     "execution_count": 248,
     "metadata": {},
     "output_type": "execute_result"
    }
   ],
   "source": []
  },
  {
   "cell_type": "markdown",
   "metadata": {},
   "source": [
    "### First Sub-table, price info"
   ]
  },
  {
   "cell_type": "code",
   "execution_count": 172,
   "metadata": {},
   "outputs": [
    {
     "data": {
      "text/plain": [
       "'11.99'"
      ]
     },
     "execution_count": 172,
     "metadata": {},
     "output_type": "execute_result"
    }
   ],
   "source": [
    "#current price\n",
    "Price = tables[1].find(id=\"js-price-history\").findNext('td').text.strip('$')\n",
    "Price"
   ]
  },
  {
   "cell_type": "code",
   "execution_count": 191,
   "metadata": {},
   "outputs": [
    {
     "name": "stdout",
     "output_type": "stream",
     "text": [
      "<td class=\"price-line\" data-cc=\"us\" id=\"js-price-history\">\n",
      "<img alt=\"us\" class=\"flag flag-us\" height=\"11\" src=\"/static/p.gif\" width=\"16\"/> U.S. Dollar\n",
      "</td>\n",
      "<td title=\"December 5, 2015\">$11.99</td>\n",
      "1\n",
      "11.99\n"
     ]
    },
    {
     "ename": "ValueError",
     "evalue": "not enough values to unpack (expected 2, got 1)",
     "output_type": "error",
     "traceback": [
      "\u001b[0;31m---------------------------------------------------------------------------\u001b[0m",
      "\u001b[0;31mValueError\u001b[0m                                Traceback (most recent call last)",
      "\u001b[0;32m<ipython-input-191-3555072a675e>\u001b[0m in \u001b[0;36m<module>\u001b[0;34m()\u001b[0m\n\u001b[1;32m      6\u001b[0m \u001b[0mprint\u001b[0m\u001b[0;34m(\u001b[0m\u001b[0mlen\u001b[0m\u001b[0;34m(\u001b[0m\u001b[0mSale_Price\u001b[0m\u001b[0;34m.\u001b[0m\u001b[0msplit\u001b[0m\u001b[0;34m(\u001b[0m\u001b[0;34m\" at -\"\u001b[0m\u001b[0;34m)\u001b[0m\u001b[0;34m)\u001b[0m\u001b[0;34m)\u001b[0m\u001b[0;34m\u001b[0m\u001b[0m\n\u001b[1;32m      7\u001b[0m \u001b[0mprint\u001b[0m\u001b[0;34m(\u001b[0m\u001b[0mSale_Price\u001b[0m\u001b[0;34m)\u001b[0m\u001b[0;34m\u001b[0m\u001b[0m\n\u001b[0;32m----> 8\u001b[0;31m \u001b[0mLowest_Price\u001b[0m\u001b[0;34m,\u001b[0m\u001b[0mMax_Sale\u001b[0m \u001b[0;34m=\u001b[0m \u001b[0mSale_Price\u001b[0m\u001b[0;34m.\u001b[0m\u001b[0msplit\u001b[0m\u001b[0;34m(\u001b[0m\u001b[0;34m\" at -\"\u001b[0m\u001b[0;34m)\u001b[0m\u001b[0;34m\u001b[0m\u001b[0m\n\u001b[0m\u001b[1;32m      9\u001b[0m \u001b[0mLowest_Price\u001b[0m\u001b[0;34m,\u001b[0m\u001b[0mMax_Sale\u001b[0m\u001b[0;34m\u001b[0m\u001b[0m\n",
      "\u001b[0;31mValueError\u001b[0m: not enough values to unpack (expected 2, got 1)"
     ]
    }
   ],
   "source": [
    "#lowest historical price, and Maximum sale %\n",
    "print(tables[1].find(id=\"js-price-history\"))\n",
    "print(tables[1].find(id=\"js-price-history\")\\\n",
    "    .findNext('td').findNext('td').findNext('td'))\n",
    "Sale_Price = tables[1].find(id=\"js-price-history\")\\\n",
    "    .findNext('td').findNext('td').findNext('td').text\n",
    "Sale_Price = Sale_Price.strip('$%')\n",
    "print(len(Sale_Price.split(\" at -\")))\n",
    "print(Sale_Price)\n",
    "Lowest_Price,Max_Sale = Sale_Price.split(\" at -\")\n",
    "Lowest_Price,Max_Sale"
   ]
  },
  {
   "cell_type": "code",
   "execution_count": null,
   "metadata": {
    "collapsed": true
   },
   "outputs": [],
   "source": []
  },
  {
   "cell_type": "code",
   "execution_count": null,
   "metadata": {
    "collapsed": true
   },
   "outputs": [],
   "source": []
  },
  {
   "cell_type": "code",
   "execution_count": null,
   "metadata": {
    "collapsed": true
   },
   "outputs": [],
   "source": []
  },
  {
   "cell_type": "markdown",
   "metadata": {},
   "source": [
    "### Second Sub-table: Additional Information"
   ]
  },
  {
   "cell_type": "code",
   "execution_count": 89,
   "metadata": {},
   "outputs": [
    {
     "name": "stdout",
     "output_type": "stream",
     "text": [
      "Action\n"
     ]
    },
    {
     "data": {
      "text/plain": [
       "['Action']"
      ]
     },
     "execution_count": 89,
     "metadata": {},
     "output_type": "execute_result"
    }
   ],
   "source": [
    "genres_raw = tables[2].find(text=\"Genres\").findParent().findNext('td').text\n",
    "print(genres_raw)\n",
    "#store_tags = store_tags.split()\n",
    "#store_tags = store_tags.strip(\"1234567890:\")\n",
    "genres = genres_raw.split(',')\n",
    "genres"
   ]
  },
  {
   "cell_type": "code",
   "execution_count": 96,
   "metadata": {},
   "outputs": [
    {
     "ename": "AttributeError",
     "evalue": "'NoneType' object has no attribute 'findParent'",
     "output_type": "error",
     "traceback": [
      "\u001b[0;31m---------------------------------------------------------------------------\u001b[0m",
      "\u001b[0;31mAttributeError\u001b[0m                            Traceback (most recent call last)",
      "\u001b[0;32m<ipython-input-96-978db2550484>\u001b[0m in \u001b[0;36m<module>\u001b[0;34m()\u001b[0m\n\u001b[0;32m----> 1\u001b[0;31m \u001b[0mcontroller_support\u001b[0m \u001b[0;34m=\u001b[0m \u001b[0mtables\u001b[0m\u001b[0;34m[\u001b[0m\u001b[0;36m2\u001b[0m\u001b[0;34m]\u001b[0m\u001b[0;34m.\u001b[0m\u001b[0mfind\u001b[0m\u001b[0;34m(\u001b[0m\u001b[0mtext\u001b[0m\u001b[0;34m=\u001b[0m\u001b[0;34m\"controller_support\"\u001b[0m\u001b[0;34m)\u001b[0m\u001b[0;34m.\u001b[0m\u001b[0mfindParent\u001b[0m\u001b[0;34m(\u001b[0m\u001b[0;34m)\u001b[0m\u001b[0;34m.\u001b[0m\u001b[0mfindNext\u001b[0m\u001b[0;34m(\u001b[0m\u001b[0;34m'td'\u001b[0m\u001b[0;34m)\u001b[0m\u001b[0;34m.\u001b[0m\u001b[0mtext\u001b[0m\u001b[0;34m\u001b[0m\u001b[0m\n\u001b[0m\u001b[1;32m      2\u001b[0m \u001b[0mcontroller_support\u001b[0m\u001b[0;34m\u001b[0m\u001b[0m\n",
      "\u001b[0;31mAttributeError\u001b[0m: 'NoneType' object has no attribute 'findParent'"
     ]
    }
   ],
   "source": [
    "controller_support = tables[2].find(text=\"controller_support\").findParent().findNext('td').text\n",
    "controller_support"
   ]
  },
  {
   "cell_type": "code",
   "execution_count": 95,
   "metadata": {},
   "outputs": [],
   "source": [
    "tables[2].find(text=\"controller_support\")\n",
    "\n"
   ]
  },
  {
   "cell_type": "markdown",
   "metadata": {},
   "source": [
    "#### Metacritic Score. - Professional Review Score"
   ]
  },
  {
   "cell_type": "code",
   "execution_count": 31,
   "metadata": {},
   "outputs": [
    {
     "data": {
      "text/plain": [
       "'86'"
      ]
     },
     "execution_count": 31,
     "metadata": {},
     "output_type": "execute_result"
    }
   ],
   "source": [
    "metacritic_score = tables[2].find(text=\"metacritic_score\").findParent().findNext('td').text\n",
    "metacritic_score"
   ]
  },
  {
   "cell_type": "code",
   "execution_count": 99,
   "metadata": {},
   "outputs": [
    {
     "ename": "AttributeError",
     "evalue": "'NoneType' object has no attribute 'findParent'",
     "output_type": "error",
     "traceback": [
      "\u001b[0;31m---------------------------------------------------------------------------\u001b[0m",
      "\u001b[0;31mAttributeError\u001b[0m                            Traceback (most recent call last)",
      "\u001b[0;32m<ipython-input-99-161928675468>\u001b[0m in \u001b[0;36m<module>\u001b[0;34m()\u001b[0m\n\u001b[0;32m----> 1\u001b[0;31m \u001b[0mcommunity_visible_stats\u001b[0m \u001b[0;34m=\u001b[0m \u001b[0mtables\u001b[0m\u001b[0;34m[\u001b[0m\u001b[0;36m2\u001b[0m\u001b[0;34m]\u001b[0m\u001b[0;34m.\u001b[0m\u001b[0mfind\u001b[0m\u001b[0;34m(\u001b[0m\u001b[0mtext\u001b[0m\u001b[0;34m=\u001b[0m\u001b[0;34m\"community_visible_stats\"\u001b[0m\u001b[0;34m)\u001b[0m\u001b[0;34m.\u001b[0m\u001b[0mfindParent\u001b[0m\u001b[0;34m(\u001b[0m\u001b[0;34m)\u001b[0m\u001b[0;34m.\u001b[0m\u001b[0mfindNext\u001b[0m\u001b[0;34m(\u001b[0m\u001b[0;34m'td'\u001b[0m\u001b[0;34m)\u001b[0m\u001b[0;34m.\u001b[0m\u001b[0mtext\u001b[0m\u001b[0;34m\u001b[0m\u001b[0m\n\u001b[0m\u001b[1;32m      2\u001b[0m \u001b[0mcommunity_visible_stats\u001b[0m\u001b[0;34m\u001b[0m\u001b[0m\n",
      "\u001b[0;31mAttributeError\u001b[0m: 'NoneType' object has no attribute 'findParent'"
     ]
    }
   ],
   "source": [
    "community_visible_stats = tables[2].find(text=\"community_visible_stats\").findParent().findNext('td').text\n",
    "community_visible_stats"
   ]
  },
  {
   "cell_type": "code",
   "execution_count": null,
   "metadata": {
    "collapsed": true
   },
   "outputs": [],
   "source": []
  },
  {
   "cell_type": "code",
   "execution_count": 33,
   "metadata": {},
   "outputs": [
    {
     "data": {
      "text/plain": [
       "'Yes'"
      ]
     },
     "execution_count": 33,
     "metadata": {},
     "output_type": "execute_result"
    }
   ],
   "source": [
    "workshop_visible = tables[2].find(text=\"workshop_visible\").findParent().findNext('td').text\n",
    "workshop_visible"
   ]
  },
  {
   "cell_type": "code",
   "execution_count": null,
   "metadata": {},
   "outputs": [],
   "source": []
  },
  {
   "cell_type": "code",
   "execution_count": 35,
   "metadata": {},
   "outputs": [
    {
     "data": {
      "text/plain": [
       "['brazilian',\n",
       " 'dutch',\n",
       " 'english',\n",
       " 'french',\n",
       " 'german',\n",
       " 'italian',\n",
       " 'japanese',\n",
       " 'koreana',\n",
       " 'portuguese',\n",
       " 'russian',\n",
       " 'spanish',\n",
       " 'turkish']"
      ]
     },
     "execution_count": 35,
     "metadata": {},
     "output_type": "execute_result"
    }
   ],
   "source": [
    "Achievement_Languages_raw = tables[2].find(text=\"Achievement Languages\")\\\n",
    "        .findParent().findNext('td').find_all('i')\n",
    "Achievement_Languages = []\n",
    "for tag in Achievement_Languages_raw:\n",
    "    Achievement_Languages.append(tag.text.strip(\":\"))\n",
    "Achievement_Languages"
   ]
  },
  {
   "cell_type": "code",
   "execution_count": 36,
   "metadata": {},
   "outputs": [
    {
     "data": {
      "text/plain": [
       "12"
      ]
     },
     "execution_count": 36,
     "metadata": {},
     "output_type": "execute_result"
    }
   ],
   "source": [
    "languages_num = len(Achievement_Languages)\n",
    "languages_num"
   ]
  },
  {
   "cell_type": "code",
   "execution_count": 37,
   "metadata": {},
   "outputs": [
    {
     "data": {
      "text/plain": [
       "'Yes'"
      ]
     },
     "execution_count": 37,
     "metadata": {},
     "output_type": "execute_result"
    }
   ],
   "source": [
    "community_hub_visible = tables[2].find(text=\"community_hub_visible\").findParent().findNext('td').text\n",
    "community_hub_visible"
   ]
  },
  {
   "cell_type": "code",
   "execution_count": 38,
   "metadata": {},
   "outputs": [
    {
     "data": {
      "text/plain": [
       "['Multiplayer',\n",
       " 'Racing',\n",
       " 'Soccer',\n",
       " 'Sports',\n",
       " 'Competitive',\n",
       " 'Team-Based',\n",
       " 'Online Co-Op',\n",
       " 'Football',\n",
       " 'Action',\n",
       " 'Co-op',\n",
       " 'Fast-Paced',\n",
       " 'Funny',\n",
       " 'Great Soundtrack',\n",
       " 'Local Multiplayer',\n",
       " 'Split Screen',\n",
       " 'Local Co-Op',\n",
       " 'Singleplayer',\n",
       " '4 Player Local',\n",
       " 'Casual',\n",
       " 'Indie']"
      ]
     },
     "execution_count": 38,
     "metadata": {},
     "output_type": "execute_result"
    }
   ],
   "source": [
    "store_tags_raw = tables[2].find(text=\"store_tags\").findParent().findNext('td').find_all('a')\n",
    "#store_tags = store_tags.split()\n",
    "#store_tags = store_tags.strip(\"1234567890:\")\n",
    "store_tags = []\n",
    "for tag in store_tags_raw:\n",
    "    store_tags.append(tag.text)\n",
    "store_tags"
   ]
  },
  {
   "cell_type": "code",
   "execution_count": 39,
   "metadata": {},
   "outputs": [
    {
     "data": {
      "text/plain": [
       "'released'"
      ]
     },
     "execution_count": 39,
     "metadata": {},
     "output_type": "execute_result"
    }
   ],
   "source": [
    "releasestate = tables[2].find(text=\"releasestate\").findParent().findNext('td').text\n",
    "releasestate"
   ]
  },
  {
   "cell_type": "code",
   "execution_count": 40,
   "metadata": {},
   "outputs": [
    {
     "data": {
      "text/plain": [
       "'Yes'"
      ]
     },
     "execution_count": 40,
     "metadata": {},
     "output_type": "execute_result"
    }
   ],
   "source": [
    "community_hub_visible = tables[2].find(text=\"community_hub_visible\").findParent().findNext('td').text\n",
    "community_hub_visible"
   ]
  },
  {
   "cell_type": "code",
   "execution_count": null,
   "metadata": {},
   "outputs": [],
   "source": []
  },
  {
   "cell_type": "code",
   "execution_count": null,
   "metadata": {
    "collapsed": true
   },
   "outputs": [],
   "source": []
  },
  {
   "cell_type": "code",
   "execution_count": null,
   "metadata": {
    "collapsed": true
   },
   "outputs": [],
   "source": []
  },
  {
   "cell_type": "code",
   "execution_count": null,
   "metadata": {
    "collapsed": true
   },
   "outputs": [],
   "source": []
  },
  {
   "cell_type": "markdown",
   "metadata": {},
   "source": [
    "### Third Sub-table: Graphs and Spy\n",
    "note:  table not present if Table 2 community_visible_stats != 'yes'\n",
    "\n",
    "Also, this 'table' is actually a list!"
   ]
  },
  {
   "cell_type": "code",
   "execution_count": 41,
   "metadata": {},
   "outputs": [
    {
     "data": {
      "text/plain": [
       "'43,175'"
      ]
     },
     "execution_count": 41,
     "metadata": {},
     "output_type": "execute_result"
    }
   ],
   "source": [
    "#right_now = soup.find(class_=\"steamspy-stats\").findNext()\n",
    "right_now = soup.find(text=\" right now\").findPrevious().text\n",
    "right_now"
   ]
  },
  {
   "cell_type": "code",
   "execution_count": 42,
   "metadata": {},
   "outputs": [
    {
     "data": {
      "text/plain": [
       "'53,146'"
      ]
     },
     "execution_count": 42,
     "metadata": {},
     "output_type": "execute_result"
    }
   ],
   "source": [
    "peak_24_hour = soup.find(text=\" 24 hour peak - \").findPrevious().text\n",
    "peak_24_hour"
   ]
  },
  {
   "cell_type": "code",
   "execution_count": 43,
   "metadata": {},
   "outputs": [
    {
     "data": {
      "text/plain": [
       "'103,129'"
      ]
     },
     "execution_count": 43,
     "metadata": {},
     "output_type": "execute_result"
    }
   ],
   "source": [
    "alltime_peak = soup.find(text=\" all-time peak \").findPrevious().text\n",
    "alltime_peak "
   ]
  },
  {
   "cell_type": "code",
   "execution_count": 44,
   "metadata": {},
   "outputs": [
    {
     "data": {
      "text/plain": [
       "'3.4 hours'"
      ]
     },
     "execution_count": 44,
     "metadata": {},
     "output_type": "execute_result"
    }
   ],
   "source": [
    "#not available for all\n",
    "median_playtime_2weeks = soup.find(text=\" median playtime in last 2 weeks\").findPrevious().text\n",
    "median_playtime_2weeks"
   ]
  },
  {
   "cell_type": "code",
   "execution_count": 45,
   "metadata": {},
   "outputs": [
    {
     "data": {
      "text/plain": [
       "'8.8 hours'"
      ]
     },
     "execution_count": 45,
     "metadata": {},
     "output_type": "execute_result"
    }
   ],
   "source": [
    "#not availavle for all\n",
    "average_playtime_2weeks = soup.find(text=\" average playtime in last 2 weeks\").findPrevious().text\n",
    "average_playtime_2weeks"
   ]
  },
  {
   "cell_type": "markdown",
   "metadata": {},
   "source": [
    "### SteamSpy Variables - not available for all games"
   ]
  },
  {
   "cell_type": "code",
   "execution_count": 46,
   "metadata": {},
   "outputs": [
    {
     "data": {
      "text/plain": [
       "('5,731,339', ' 69,145')"
      ]
     },
     "execution_count": 46,
     "metadata": {},
     "output_type": "execute_result"
    }
   ],
   "source": [
    "owners = soup.find(text=\" owners\").findPrevious().findPrevious().text\n",
    "owners, owners_unc = owners.split('±')\n",
    "owners = owners.strip()\n",
    "owners,owners_unc"
   ]
  },
  {
   "cell_type": "code",
   "execution_count": 47,
   "metadata": {},
   "outputs": [
    {
     "data": {
      "text/plain": [
       "('5,499,086', ' 67,749')"
      ]
     },
     "execution_count": 47,
     "metadata": {},
     "output_type": "execute_result"
    }
   ],
   "source": [
    "players_total = soup.find(text=\" players total\").findPrevious().findPrevious().text\n",
    "players_total, players_total_unc = players_total.split('±')\n",
    "players_total = players_total.strip()\n",
    "players_total, players_total_unc"
   ]
  },
  {
   "cell_type": "code",
   "execution_count": 48,
   "metadata": {},
   "outputs": [
    {
     "data": {
      "text/plain": [
       "'95.95%'"
      ]
     },
     "execution_count": 48,
     "metadata": {},
     "output_type": "execute_result"
    }
   ],
   "source": [
    "owners_played_percent = soup.find(text=\" players total\").findNext().text\n",
    "#owners_played_percent = float(owners_played_percent.strip('%'))/100\n",
    "owners_played_percent.strip('%')\n",
    "owners_played_percent"
   ]
  },
  {
   "cell_type": "code",
   "execution_count": 49,
   "metadata": {},
   "outputs": [
    {
     "data": {
      "text/plain": [
       "('1,444,392', ' 34,893')"
      ]
     },
     "execution_count": 49,
     "metadata": {},
     "output_type": "execute_result"
    }
   ],
   "source": [
    "players_2_weeks = soup.find(text=\" players in last 2 weeks\").findPrevious().findPrevious().text\n",
    "players_2_weeks, players_2_weeks_unc = players_2_weeks.split('±')\n",
    "players_2_weeks = players_2_weeks.strip()\n",
    "players_2_weeks, players_2_weeks_unc"
   ]
  },
  {
   "cell_type": "code",
   "execution_count": 50,
   "metadata": {},
   "outputs": [
    {
     "data": {
      "text/plain": [
       "'25.2%'"
      ]
     },
     "execution_count": 50,
     "metadata": {},
     "output_type": "execute_result"
    }
   ],
   "source": [
    "players_2_weeks_percent = soup.find(text=\" players in last 2 weeks\").findNext().text\n",
    "#players_2_weeks_percent = float(players_2_weeks_percent.strip('%'))/100\n",
    "players_2_weeks_percent.strip('%')\n",
    "players_2_weeks_percent"
   ]
  },
  {
   "cell_type": "code",
   "execution_count": 51,
   "metadata": {},
   "outputs": [
    {
     "data": {
      "text/plain": [
       "'19.3 hours'"
      ]
     },
     "execution_count": 51,
     "metadata": {},
     "output_type": "execute_result"
    }
   ],
   "source": [
    "#not available for all\n",
    "median_total_playtime = soup.find(text=\" median total playtime\").findPrevious().text\n",
    "median_total_playtime"
   ]
  },
  {
   "cell_type": "code",
   "execution_count": 52,
   "metadata": {},
   "outputs": [
    {
     "data": {
      "text/plain": [
       "'86.2 hours'"
      ]
     },
     "execution_count": 52,
     "metadata": {},
     "output_type": "execute_result"
    }
   ],
   "source": [
    "#not available for all\n",
    "average_total_playtime = soup.find(text=\" average total playtime\").findPrevious().text\n",
    "average_total_playtime"
   ]
  },
  {
   "cell_type": "code",
   "execution_count": null,
   "metadata": {
    "collapsed": true
   },
   "outputs": [],
   "source": []
  },
  {
   "cell_type": "markdown",
   "metadata": {},
   "source": [
    "## A few more items from the remaining sub-pages"
   ]
  },
  {
   "cell_type": "code",
   "execution_count": 53,
   "metadata": {},
   "outputs": [
    {
     "data": {
      "text/plain": [
       "'20'"
      ]
     },
     "execution_count": 53,
     "metadata": {},
     "output_type": "execute_result"
    }
   ],
   "source": [
    "Packages = soup.find(text = \" Packages \").findNext().text\n",
    "Packages"
   ]
  },
  {
   "cell_type": "code",
   "execution_count": 54,
   "metadata": {},
   "outputs": [
    {
     "data": {
      "text/plain": [
       "'23'"
      ]
     },
     "execution_count": 54,
     "metadata": {},
     "output_type": "execute_result"
    }
   ],
   "source": [
    "DLCs = soup.find(text = \" DLCs \").findNext().text\n",
    "DLCs"
   ]
  },
  {
   "cell_type": "code",
   "execution_count": 55,
   "metadata": {},
   "outputs": [
    {
     "data": {
      "text/plain": [
       "'19'"
      ]
     },
     "execution_count": 55,
     "metadata": {},
     "output_type": "execute_result"
    }
   ],
   "source": [
    "Depots = soup.find(text = \" Depots \" ).findNext().text\n",
    "Depots"
   ]
  },
  {
   "cell_type": "code",
   "execution_count": 56,
   "metadata": {},
   "outputs": [
    {
     "data": {
      "text/plain": [
       "1.4361111111111111"
      ]
     },
     "execution_count": 56,
     "metadata": {},
     "output_type": "execute_result"
    }
   ],
   "source": [
    "4700*1.1/3600"
   ]
  },
  {
   "cell_type": "code",
   "execution_count": null,
   "metadata": {
    "collapsed": true
   },
   "outputs": [],
   "source": []
  }
 ],
 "metadata": {
  "kernelspec": {
   "display_name": "Python 3",
   "language": "python",
   "name": "python3"
  },
  "language_info": {
   "codemirror_mode": {
    "name": "ipython",
    "version": 3
   },
   "file_extension": ".py",
   "mimetype": "text/x-python",
   "name": "python",
   "nbconvert_exporter": "python",
   "pygments_lexer": "ipython3",
   "version": "3.6.1"
  }
 },
 "nbformat": 4,
 "nbformat_minor": 2
}
